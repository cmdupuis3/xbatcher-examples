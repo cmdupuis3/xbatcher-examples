{
 "cells": [
  {
   "attachments": {},
   "cell_type": "markdown",
   "id": "8bc551a9",
   "metadata": {},
   "source": [
    "# Graph Neural Networks with xbatcher\n",
    "\n"
   ]
  },
  {
   "attachments": {},
   "cell_type": "markdown",
   "id": "8b839225",
   "metadata": {},
   "source": [
    "## Introduction\n",
    "\n",
    "In this tutorial, we will explore how to solve one kind of graph neural network problem with xbatcher, networkx, and PyTorch. This tutorial closely mirrors the tutorial for using xbatcher with standard convolutional neural networks (CNN) (TODO: insert link). We are actually solving the same problem of learning surface currents from a few different quantities observable from satellites, just with a different approach. We chose to use graph convolutional neural networks (GNNs), because in the CNN-based model, we had to throw out a lot of data near coastlines and islands. This is not ideal because quite a lot of physics happens in these areas, particularly with western boundary currents and related phenomena. A GNN approach can avoid this issue because graphs can have an arbitrary shape independent of model grids.\n",
    "\n",
    "Some key differences between a typical array-based analysis and a graph-based analysis:\n",
    "- Graphs contain information about connectivity between nodes, rather than information about the position of each node like an array does. This means that when converting between an array and a graph, some care must be taken so that graphs can likewise be converted back to arrays. Distances between points are preserved when converting arrays to graphs, but the angles between edges are not.\n",
    "- Graphs as a whole do not have a sense of orientation. We can expect that when plotting the same graph, we might get different results because the graph itself can be rotated, translated, mirrored, etc.\n",
    "\n",
    "There are several distinct kinds of graph neural network problems, which can include\n",
    "- Learning nodes on a single graph\n",
    "- Learning graph shapes\n",
    "- Learning fields on a graph from other fields on the same graph\n",
    "\n",
    "The last type is the kind of problem we have here."
   ]
  },
  {
   "attachments": {},
   "cell_type": "markdown",
   "id": "d9c3991a",
   "metadata": {},
   "source": [
    "## Imports\n",
    "\n",
    "Importing some common libraries here. We'll use the networkx package to facilitate graph construction and operations."
   ]
  },
  {
   "cell_type": "code",
   "execution_count": 1,
   "id": "13c7a6d4-c7e5-4573-b965-c32807a07d1a",
   "metadata": {},
   "outputs": [],
   "source": [
    "import numpy as np\n",
    "import matplotlib.pyplot as plt\n",
    "import xarray as xr\n",
    "import networkx as nx\n",
    "\n",
    "from dataclasses import dataclass\n",
    "from typing import Iterable\n",
    "from itertools import product\n",
    "from intake import open_catalog"
   ]
  },
  {
   "attachments": {},
   "cell_type": "markdown",
   "id": "eda3beb8",
   "metadata": {},
   "source": [
    "Here we import the necessary pyTorch libraries. torch_geometric is something of a misnomer, it's the library for graph operations in pyTorch. torch_geometric offers some standardization of the API needed for using graphs in pyTorch, and offers some implementations used in research as well. We also want conversion functions for interoperability with networkx."
   ]
  },
  {
   "cell_type": "code",
   "execution_count": 2,
   "id": "e09725ba-25d3-4363-a018-905d30d1c3a9",
   "metadata": {},
   "outputs": [],
   "source": [
    "# Need a cruft check on these\n",
    "\n",
    "import torch\n",
    "import torch.nn as nn\n",
    "import torch.utils.data as data\n",
    "import torch_geometric\n",
    "from torch_geometric.nn import MessagePassing\n",
    "from torch_geometric.utils import add_self_loops, degree\n",
    "from torch.nn import Sequential as Seq, Linear, ReLU\n",
    "\n",
    "\n",
    "from torch_geometric.utils.convert import to_networkx, from_networkx"
   ]
  },
  {
   "attachments": {},
   "cell_type": "markdown",
   "id": "7171482c",
   "metadata": {},
   "source": [
    "And finally, import xbatcher..."
   ]
  },
  {
   "cell_type": "code",
   "execution_count": 3,
   "id": "7302bbe2-7d05-491b-b4fa-f66d1847cb79",
   "metadata": {},
   "outputs": [],
   "source": [
    "import xbatcher as xb"
   ]
  },
  {
   "attachments": {},
   "cell_type": "markdown",
   "id": "8b909d9f",
   "metadata": {},
   "source": [
    "## Setup"
   ]
  },
  {
   "attachments": {},
   "cell_type": "markdown",
   "id": "f3aa44b8",
   "metadata": {},
   "source": [
    "We can use a software design similar to the one we used for standard CNNs. Here we reuse the Scenario dataclass and the data import scheme."
   ]
  },
  {
   "cell_type": "code",
   "execution_count": 4,
   "id": "7ae45efa-3e9f-4185-bdc1-dcece62959a9",
   "metadata": {},
   "outputs": [],
   "source": [
    "@dataclass\n",
    "class Scenario:\n",
    "    conv_var: Iterable[str]\n",
    "    input_var: Iterable[str]\n",
    "    target: Iterable[str]\n",
    "    name: str"
   ]
  },
  {
   "cell_type": "code",
   "execution_count": 5,
   "id": "cc2b7f3e-3737-4ddf-9858-211fd74c5988",
   "metadata": {},
   "outputs": [],
   "source": [
    "target = ['U', 'V']"
   ]
  },
  {
   "cell_type": "code",
   "execution_count": 6,
   "id": "613da31a-3241-4cc6-8ba0-cf4908625ca1",
   "metadata": {},
   "outputs": [],
   "source": [
    "sc1 = Scenario(['SSH'],             ['TAUX', 'TAUY'], target, name = \"derp\")\n",
    "sc5 = Scenario(['SSH', 'SST'], ['X', 'TAUX', 'TAUY'], target, name = \"herp\")"
   ]
  },
  {
   "cell_type": "code",
   "execution_count": 7,
   "id": "7314c705-d886-40cc-8894-83d44f48686a",
   "metadata": {},
   "outputs": [],
   "source": [
    "%run ./surface_currents_prep.ipynb"
   ]
  },
  {
   "cell_type": "code",
   "execution_count": 8,
   "id": "82d20301-ee17-412a-bebb-76b69d3f9978",
   "metadata": {},
   "outputs": [],
   "source": [
    "# prepare_data(sc5, 200, 1000, 1000, 200)"
   ]
  },
  {
   "cell_type": "code",
   "execution_count": 9,
   "id": "801180c8-0a30-4ab6-9c32-7721e5300354",
   "metadata": {},
   "outputs": [
    {
     "data": {
      "text/html": [
       "<div><svg style=\"position: absolute; width: 0; height: 0; overflow: hidden\">\n",
       "<defs>\n",
       "<symbol id=\"icon-database\" viewBox=\"0 0 32 32\">\n",
       "<path d=\"M16 0c-8.837 0-16 2.239-16 5v4c0 2.761 7.163 5 16 5s16-2.239 16-5v-4c0-2.761-7.163-5-16-5z\"></path>\n",
       "<path d=\"M16 17c-8.837 0-16-2.239-16-5v6c0 2.761 7.163 5 16 5s16-2.239 16-5v-6c0 2.761-7.163 5-16 5z\"></path>\n",
       "<path d=\"M16 26c-8.837 0-16-2.239-16-5v6c0 2.761 7.163 5 16 5s16-2.239 16-5v-6c0 2.761-7.163 5-16 5z\"></path>\n",
       "</symbol>\n",
       "<symbol id=\"icon-file-text2\" viewBox=\"0 0 32 32\">\n",
       "<path d=\"M28.681 7.159c-0.694-0.947-1.662-2.053-2.724-3.116s-2.169-2.030-3.116-2.724c-1.612-1.182-2.393-1.319-2.841-1.319h-15.5c-1.378 0-2.5 1.121-2.5 2.5v27c0 1.378 1.122 2.5 2.5 2.5h23c1.378 0 2.5-1.122 2.5-2.5v-19.5c0-0.448-0.137-1.23-1.319-2.841zM24.543 5.457c0.959 0.959 1.712 1.825 2.268 2.543h-4.811v-4.811c0.718 0.556 1.584 1.309 2.543 2.268zM28 29.5c0 0.271-0.229 0.5-0.5 0.5h-23c-0.271 0-0.5-0.229-0.5-0.5v-27c0-0.271 0.229-0.5 0.5-0.5 0 0 15.499-0 15.5 0v7c0 0.552 0.448 1 1 1h7v19.5z\"></path>\n",
       "<path d=\"M23 26h-14c-0.552 0-1-0.448-1-1s0.448-1 1-1h14c0.552 0 1 0.448 1 1s-0.448 1-1 1z\"></path>\n",
       "<path d=\"M23 22h-14c-0.552 0-1-0.448-1-1s0.448-1 1-1h14c0.552 0 1 0.448 1 1s-0.448 1-1 1z\"></path>\n",
       "<path d=\"M23 18h-14c-0.552 0-1-0.448-1-1s0.448-1 1-1h14c0.552 0 1 0.448 1 1s-0.448 1-1 1z\"></path>\n",
       "</symbol>\n",
       "</defs>\n",
       "</svg>\n",
       "<style>/* CSS stylesheet for displaying xarray objects in jupyterlab.\n",
       " *\n",
       " */\n",
       "\n",
       ":root {\n",
       "  --xr-font-color0: var(--jp-content-font-color0, rgba(0, 0, 0, 1));\n",
       "  --xr-font-color2: var(--jp-content-font-color2, rgba(0, 0, 0, 0.54));\n",
       "  --xr-font-color3: var(--jp-content-font-color3, rgba(0, 0, 0, 0.38));\n",
       "  --xr-border-color: var(--jp-border-color2, #e0e0e0);\n",
       "  --xr-disabled-color: var(--jp-layout-color3, #bdbdbd);\n",
       "  --xr-background-color: var(--jp-layout-color0, white);\n",
       "  --xr-background-color-row-even: var(--jp-layout-color1, white);\n",
       "  --xr-background-color-row-odd: var(--jp-layout-color2, #eeeeee);\n",
       "}\n",
       "\n",
       "html[theme=dark],\n",
       "body[data-theme=dark],\n",
       "body.vscode-dark {\n",
       "  --xr-font-color0: rgba(255, 255, 255, 1);\n",
       "  --xr-font-color2: rgba(255, 255, 255, 0.54);\n",
       "  --xr-font-color3: rgba(255, 255, 255, 0.38);\n",
       "  --xr-border-color: #1F1F1F;\n",
       "  --xr-disabled-color: #515151;\n",
       "  --xr-background-color: #111111;\n",
       "  --xr-background-color-row-even: #111111;\n",
       "  --xr-background-color-row-odd: #313131;\n",
       "}\n",
       "\n",
       ".xr-wrap {\n",
       "  display: block !important;\n",
       "  min-width: 300px;\n",
       "  max-width: 700px;\n",
       "}\n",
       "\n",
       ".xr-text-repr-fallback {\n",
       "  /* fallback to plain text repr when CSS is not injected (untrusted notebook) */\n",
       "  display: none;\n",
       "}\n",
       "\n",
       ".xr-header {\n",
       "  padding-top: 6px;\n",
       "  padding-bottom: 6px;\n",
       "  margin-bottom: 4px;\n",
       "  border-bottom: solid 1px var(--xr-border-color);\n",
       "}\n",
       "\n",
       ".xr-header > div,\n",
       ".xr-header > ul {\n",
       "  display: inline;\n",
       "  margin-top: 0;\n",
       "  margin-bottom: 0;\n",
       "}\n",
       "\n",
       ".xr-obj-type,\n",
       ".xr-array-name {\n",
       "  margin-left: 2px;\n",
       "  margin-right: 10px;\n",
       "}\n",
       "\n",
       ".xr-obj-type {\n",
       "  color: var(--xr-font-color2);\n",
       "}\n",
       "\n",
       ".xr-sections {\n",
       "  padding-left: 0 !important;\n",
       "  display: grid;\n",
       "  grid-template-columns: 150px auto auto 1fr 20px 20px;\n",
       "}\n",
       "\n",
       ".xr-section-item {\n",
       "  display: contents;\n",
       "}\n",
       "\n",
       ".xr-section-item input {\n",
       "  display: none;\n",
       "}\n",
       "\n",
       ".xr-section-item input + label {\n",
       "  color: var(--xr-disabled-color);\n",
       "}\n",
       "\n",
       ".xr-section-item input:enabled + label {\n",
       "  cursor: pointer;\n",
       "  color: var(--xr-font-color2);\n",
       "}\n",
       "\n",
       ".xr-section-item input:enabled + label:hover {\n",
       "  color: var(--xr-font-color0);\n",
       "}\n",
       "\n",
       ".xr-section-summary {\n",
       "  grid-column: 1;\n",
       "  color: var(--xr-font-color2);\n",
       "  font-weight: 500;\n",
       "}\n",
       "\n",
       ".xr-section-summary > span {\n",
       "  display: inline-block;\n",
       "  padding-left: 0.5em;\n",
       "}\n",
       "\n",
       ".xr-section-summary-in:disabled + label {\n",
       "  color: var(--xr-font-color2);\n",
       "}\n",
       "\n",
       ".xr-section-summary-in + label:before {\n",
       "  display: inline-block;\n",
       "  content: '►';\n",
       "  font-size: 11px;\n",
       "  width: 15px;\n",
       "  text-align: center;\n",
       "}\n",
       "\n",
       ".xr-section-summary-in:disabled + label:before {\n",
       "  color: var(--xr-disabled-color);\n",
       "}\n",
       "\n",
       ".xr-section-summary-in:checked + label:before {\n",
       "  content: '▼';\n",
       "}\n",
       "\n",
       ".xr-section-summary-in:checked + label > span {\n",
       "  display: none;\n",
       "}\n",
       "\n",
       ".xr-section-summary,\n",
       ".xr-section-inline-details {\n",
       "  padding-top: 4px;\n",
       "  padding-bottom: 4px;\n",
       "}\n",
       "\n",
       ".xr-section-inline-details {\n",
       "  grid-column: 2 / -1;\n",
       "}\n",
       "\n",
       ".xr-section-details {\n",
       "  display: none;\n",
       "  grid-column: 1 / -1;\n",
       "  margin-bottom: 5px;\n",
       "}\n",
       "\n",
       ".xr-section-summary-in:checked ~ .xr-section-details {\n",
       "  display: contents;\n",
       "}\n",
       "\n",
       ".xr-array-wrap {\n",
       "  grid-column: 1 / -1;\n",
       "  display: grid;\n",
       "  grid-template-columns: 20px auto;\n",
       "}\n",
       "\n",
       ".xr-array-wrap > label {\n",
       "  grid-column: 1;\n",
       "  vertical-align: top;\n",
       "}\n",
       "\n",
       ".xr-preview {\n",
       "  color: var(--xr-font-color3);\n",
       "}\n",
       "\n",
       ".xr-array-preview,\n",
       ".xr-array-data {\n",
       "  padding: 0 5px !important;\n",
       "  grid-column: 2;\n",
       "}\n",
       "\n",
       ".xr-array-data,\n",
       ".xr-array-in:checked ~ .xr-array-preview {\n",
       "  display: none;\n",
       "}\n",
       "\n",
       ".xr-array-in:checked ~ .xr-array-data,\n",
       ".xr-array-preview {\n",
       "  display: inline-block;\n",
       "}\n",
       "\n",
       ".xr-dim-list {\n",
       "  display: inline-block !important;\n",
       "  list-style: none;\n",
       "  padding: 0 !important;\n",
       "  margin: 0;\n",
       "}\n",
       "\n",
       ".xr-dim-list li {\n",
       "  display: inline-block;\n",
       "  padding: 0;\n",
       "  margin: 0;\n",
       "}\n",
       "\n",
       ".xr-dim-list:before {\n",
       "  content: '(';\n",
       "}\n",
       "\n",
       ".xr-dim-list:after {\n",
       "  content: ')';\n",
       "}\n",
       "\n",
       ".xr-dim-list li:not(:last-child):after {\n",
       "  content: ',';\n",
       "  padding-right: 5px;\n",
       "}\n",
       "\n",
       ".xr-has-index {\n",
       "  font-weight: bold;\n",
       "}\n",
       "\n",
       ".xr-var-list,\n",
       ".xr-var-item {\n",
       "  display: contents;\n",
       "}\n",
       "\n",
       ".xr-var-item > div,\n",
       ".xr-var-item label,\n",
       ".xr-var-item > .xr-var-name span {\n",
       "  background-color: var(--xr-background-color-row-even);\n",
       "  margin-bottom: 0;\n",
       "}\n",
       "\n",
       ".xr-var-item > .xr-var-name:hover span {\n",
       "  padding-right: 5px;\n",
       "}\n",
       "\n",
       ".xr-var-list > li:nth-child(odd) > div,\n",
       ".xr-var-list > li:nth-child(odd) > label,\n",
       ".xr-var-list > li:nth-child(odd) > .xr-var-name span {\n",
       "  background-color: var(--xr-background-color-row-odd);\n",
       "}\n",
       "\n",
       ".xr-var-name {\n",
       "  grid-column: 1;\n",
       "}\n",
       "\n",
       ".xr-var-dims {\n",
       "  grid-column: 2;\n",
       "}\n",
       "\n",
       ".xr-var-dtype {\n",
       "  grid-column: 3;\n",
       "  text-align: right;\n",
       "  color: var(--xr-font-color2);\n",
       "}\n",
       "\n",
       ".xr-var-preview {\n",
       "  grid-column: 4;\n",
       "}\n",
       "\n",
       ".xr-index-preview {\n",
       "  grid-column: 2 / 5;\n",
       "  color: var(--xr-font-color2);\n",
       "}\n",
       "\n",
       ".xr-var-name,\n",
       ".xr-var-dims,\n",
       ".xr-var-dtype,\n",
       ".xr-preview,\n",
       ".xr-attrs dt {\n",
       "  white-space: nowrap;\n",
       "  overflow: hidden;\n",
       "  text-overflow: ellipsis;\n",
       "  padding-right: 10px;\n",
       "}\n",
       "\n",
       ".xr-var-name:hover,\n",
       ".xr-var-dims:hover,\n",
       ".xr-var-dtype:hover,\n",
       ".xr-attrs dt:hover {\n",
       "  overflow: visible;\n",
       "  width: auto;\n",
       "  z-index: 1;\n",
       "}\n",
       "\n",
       ".xr-var-attrs,\n",
       ".xr-var-data,\n",
       ".xr-index-data {\n",
       "  display: none;\n",
       "  background-color: var(--xr-background-color) !important;\n",
       "  padding-bottom: 5px !important;\n",
       "}\n",
       "\n",
       ".xr-var-attrs-in:checked ~ .xr-var-attrs,\n",
       ".xr-var-data-in:checked ~ .xr-var-data,\n",
       ".xr-index-data-in:checked ~ .xr-index-data {\n",
       "  display: block;\n",
       "}\n",
       "\n",
       ".xr-var-data > table {\n",
       "  float: right;\n",
       "}\n",
       "\n",
       ".xr-var-name span,\n",
       ".xr-var-data,\n",
       ".xr-index-name div,\n",
       ".xr-index-data,\n",
       ".xr-attrs {\n",
       "  padding-left: 25px !important;\n",
       "}\n",
       "\n",
       ".xr-attrs,\n",
       ".xr-var-attrs,\n",
       ".xr-var-data,\n",
       ".xr-index-data {\n",
       "  grid-column: 1 / -1;\n",
       "}\n",
       "\n",
       "dl.xr-attrs {\n",
       "  padding: 0;\n",
       "  margin: 0;\n",
       "  display: grid;\n",
       "  grid-template-columns: 125px auto;\n",
       "}\n",
       "\n",
       ".xr-attrs dt,\n",
       ".xr-attrs dd {\n",
       "  padding: 0;\n",
       "  margin: 0;\n",
       "  float: left;\n",
       "  padding-right: 10px;\n",
       "  width: auto;\n",
       "}\n",
       "\n",
       ".xr-attrs dt {\n",
       "  font-weight: normal;\n",
       "  grid-column: 1;\n",
       "}\n",
       "\n",
       ".xr-attrs dt:hover span {\n",
       "  display: inline-block;\n",
       "  background: var(--xr-background-color);\n",
       "  padding-right: 10px;\n",
       "}\n",
       "\n",
       ".xr-attrs dd {\n",
       "  grid-column: 2;\n",
       "  white-space: pre-wrap;\n",
       "  word-break: break-all;\n",
       "}\n",
       "\n",
       ".xr-icon-database,\n",
       ".xr-icon-file-text2,\n",
       ".xr-no-icon {\n",
       "  display: inline-block;\n",
       "  vertical-align: middle;\n",
       "  width: 1em;\n",
       "  height: 1.5em !important;\n",
       "  stroke-width: 0;\n",
       "  stroke: currentColor;\n",
       "  fill: currentColor;\n",
       "}\n",
       "</style><pre class='xr-text-repr-fallback'>&lt;xarray.Dataset&gt;\n",
       "Dimensions:  (nlat: 550, nlon: 350)\n",
       "Dimensions without coordinates: nlat, nlon\n",
       "Data variables:\n",
       "    SSH      (nlat, nlon) float32 dask.array&lt;chunksize=(550, 350), meta=np.ndarray&gt;\n",
       "    SST      (nlat, nlon) float32 dask.array&lt;chunksize=(550, 350), meta=np.ndarray&gt;\n",
       "    TAUX     (nlat, nlon) float32 dask.array&lt;chunksize=(550, 350), meta=np.ndarray&gt;\n",
       "    TAUY     (nlat, nlon) float32 dask.array&lt;chunksize=(550, 350), meta=np.ndarray&gt;\n",
       "    U        (nlat, nlon) float32 dask.array&lt;chunksize=(550, 350), meta=np.ndarray&gt;\n",
       "    V        (nlat, nlon) float32 dask.array&lt;chunksize=(550, 350), meta=np.ndarray&gt;\n",
       "    X        (nlat, nlon) float64 dask.array&lt;chunksize=(550, 350), meta=np.ndarray&gt;\n",
       "    mask     (nlat, nlon) bool dask.array&lt;chunksize=(100, 350), meta=np.ndarray&gt;</pre><div class='xr-wrap' style='display:none'><div class='xr-header'><div class='xr-obj-type'>xarray.Dataset</div></div><ul class='xr-sections'><li class='xr-section-item'><input id='section-348ffb11-8aa5-4fb6-aa75-18e3832ab36d' class='xr-section-summary-in' type='checkbox' disabled ><label for='section-348ffb11-8aa5-4fb6-aa75-18e3832ab36d' class='xr-section-summary'  title='Expand/collapse section'>Dimensions:</label><div class='xr-section-inline-details'><ul class='xr-dim-list'><li><span>nlat</span>: 550</li><li><span>nlon</span>: 350</li></ul></div><div class='xr-section-details'></div></li><li class='xr-section-item'><input id='section-845b61c3-d021-4670-bd85-9aa012250caf' class='xr-section-summary-in' type='checkbox' disabled ><label for='section-845b61c3-d021-4670-bd85-9aa012250caf' class='xr-section-summary'  title='Expand/collapse section'>Coordinates: <span>(0)</span></label><div class='xr-section-inline-details'></div><div class='xr-section-details'><ul class='xr-var-list'></ul></div></li><li class='xr-section-item'><input id='section-20f04a8f-9f7b-4d50-9abd-514489c4241c' class='xr-section-summary-in' type='checkbox'  checked><label for='section-20f04a8f-9f7b-4d50-9abd-514489c4241c' class='xr-section-summary' >Data variables: <span>(8)</span></label><div class='xr-section-inline-details'></div><div class='xr-section-details'><ul class='xr-var-list'><li class='xr-var-item'><div class='xr-var-name'><span>SSH</span></div><div class='xr-var-dims'>(nlat, nlon)</div><div class='xr-var-dtype'>float32</div><div class='xr-var-preview xr-preview'>dask.array&lt;chunksize=(550, 350), meta=np.ndarray&gt;</div><input id='attrs-e15da7ec-3139-46b0-9854-6e901101a99c' class='xr-var-attrs-in' type='checkbox' disabled><label for='attrs-e15da7ec-3139-46b0-9854-6e901101a99c' title='Show/Hide attributes'><svg class='icon xr-icon-file-text2'><use xlink:href='#icon-file-text2'></use></svg></label><input id='data-abf6bc1d-665e-483e-930c-89a4ddbd472f' class='xr-var-data-in' type='checkbox'><label for='data-abf6bc1d-665e-483e-930c-89a4ddbd472f' title='Show/Hide data repr'><svg class='icon xr-icon-database'><use xlink:href='#icon-database'></use></svg></label><div class='xr-var-attrs'><dl class='xr-attrs'></dl></div><div class='xr-var-data'><table>\n",
       "    <tr>\n",
       "        <td>\n",
       "            <table style=\"border-collapse: collapse;\">\n",
       "                <thead>\n",
       "                    <tr>\n",
       "                        <td> </td>\n",
       "                        <th> Array </th>\n",
       "                        <th> Chunk </th>\n",
       "                    </tr>\n",
       "                </thead>\n",
       "                <tbody>\n",
       "                    \n",
       "                    <tr>\n",
       "                        <th> Bytes </th>\n",
       "                        <td> 751.95 kiB </td>\n",
       "                        <td> 751.95 kiB </td>\n",
       "                    </tr>\n",
       "                    \n",
       "                    <tr>\n",
       "                        <th> Shape </th>\n",
       "                        <td> (550, 350) </td>\n",
       "                        <td> (550, 350) </td>\n",
       "                    </tr>\n",
       "                    <tr>\n",
       "                        <th> Dask graph </th>\n",
       "                        <td colspan=\"2\"> 1 chunks in 4 graph layers </td>\n",
       "                    </tr>\n",
       "                    <tr>\n",
       "                        <th> Data type </th>\n",
       "                        <td colspan=\"2\"> float32 numpy.ndarray </td>\n",
       "                    </tr>\n",
       "                </tbody>\n",
       "            </table>\n",
       "        </td>\n",
       "        <td>\n",
       "        <svg width=\"126\" height=\"170\" style=\"stroke:rgb(0,0,0);stroke-width:1\" >\n",
       "\n",
       "  <!-- Horizontal lines -->\n",
       "  <line x1=\"0\" y1=\"0\" x2=\"76\" y2=\"0\" style=\"stroke-width:2\" />\n",
       "  <line x1=\"0\" y1=\"120\" x2=\"76\" y2=\"120\" style=\"stroke-width:2\" />\n",
       "\n",
       "  <!-- Vertical lines -->\n",
       "  <line x1=\"0\" y1=\"0\" x2=\"0\" y2=\"120\" style=\"stroke-width:2\" />\n",
       "  <line x1=\"76\" y1=\"0\" x2=\"76\" y2=\"120\" style=\"stroke-width:2\" />\n",
       "\n",
       "  <!-- Colored Rectangle -->\n",
       "  <polygon points=\"0.0,0.0 76.36363636363636,0.0 76.36363636363636,120.0 0.0,120.0\" style=\"fill:#ECB172A0;stroke-width:0\"/>\n",
       "\n",
       "  <!-- Text -->\n",
       "  <text x=\"38.181818\" y=\"140.000000\" font-size=\"1.0rem\" font-weight=\"100\" text-anchor=\"middle\" >350</text>\n",
       "  <text x=\"96.363636\" y=\"60.000000\" font-size=\"1.0rem\" font-weight=\"100\" text-anchor=\"middle\" transform=\"rotate(-90,96.363636,60.000000)\">550</text>\n",
       "</svg>\n",
       "        </td>\n",
       "    </tr>\n",
       "</table></div></li><li class='xr-var-item'><div class='xr-var-name'><span>SST</span></div><div class='xr-var-dims'>(nlat, nlon)</div><div class='xr-var-dtype'>float32</div><div class='xr-var-preview xr-preview'>dask.array&lt;chunksize=(550, 350), meta=np.ndarray&gt;</div><input id='attrs-b6afd8cf-08c3-46a3-b8b6-51a45f90b136' class='xr-var-attrs-in' type='checkbox' disabled><label for='attrs-b6afd8cf-08c3-46a3-b8b6-51a45f90b136' title='Show/Hide attributes'><svg class='icon xr-icon-file-text2'><use xlink:href='#icon-file-text2'></use></svg></label><input id='data-51dca7dd-c0d8-40c7-bf62-6b82932bbb6f' class='xr-var-data-in' type='checkbox'><label for='data-51dca7dd-c0d8-40c7-bf62-6b82932bbb6f' title='Show/Hide data repr'><svg class='icon xr-icon-database'><use xlink:href='#icon-database'></use></svg></label><div class='xr-var-attrs'><dl class='xr-attrs'></dl></div><div class='xr-var-data'><table>\n",
       "    <tr>\n",
       "        <td>\n",
       "            <table style=\"border-collapse: collapse;\">\n",
       "                <thead>\n",
       "                    <tr>\n",
       "                        <td> </td>\n",
       "                        <th> Array </th>\n",
       "                        <th> Chunk </th>\n",
       "                    </tr>\n",
       "                </thead>\n",
       "                <tbody>\n",
       "                    \n",
       "                    <tr>\n",
       "                        <th> Bytes </th>\n",
       "                        <td> 751.95 kiB </td>\n",
       "                        <td> 751.95 kiB </td>\n",
       "                    </tr>\n",
       "                    \n",
       "                    <tr>\n",
       "                        <th> Shape </th>\n",
       "                        <td> (550, 350) </td>\n",
       "                        <td> (550, 350) </td>\n",
       "                    </tr>\n",
       "                    <tr>\n",
       "                        <th> Dask graph </th>\n",
       "                        <td colspan=\"2\"> 1 chunks in 4 graph layers </td>\n",
       "                    </tr>\n",
       "                    <tr>\n",
       "                        <th> Data type </th>\n",
       "                        <td colspan=\"2\"> float32 numpy.ndarray </td>\n",
       "                    </tr>\n",
       "                </tbody>\n",
       "            </table>\n",
       "        </td>\n",
       "        <td>\n",
       "        <svg width=\"126\" height=\"170\" style=\"stroke:rgb(0,0,0);stroke-width:1\" >\n",
       "\n",
       "  <!-- Horizontal lines -->\n",
       "  <line x1=\"0\" y1=\"0\" x2=\"76\" y2=\"0\" style=\"stroke-width:2\" />\n",
       "  <line x1=\"0\" y1=\"120\" x2=\"76\" y2=\"120\" style=\"stroke-width:2\" />\n",
       "\n",
       "  <!-- Vertical lines -->\n",
       "  <line x1=\"0\" y1=\"0\" x2=\"0\" y2=\"120\" style=\"stroke-width:2\" />\n",
       "  <line x1=\"76\" y1=\"0\" x2=\"76\" y2=\"120\" style=\"stroke-width:2\" />\n",
       "\n",
       "  <!-- Colored Rectangle -->\n",
       "  <polygon points=\"0.0,0.0 76.36363636363636,0.0 76.36363636363636,120.0 0.0,120.0\" style=\"fill:#ECB172A0;stroke-width:0\"/>\n",
       "\n",
       "  <!-- Text -->\n",
       "  <text x=\"38.181818\" y=\"140.000000\" font-size=\"1.0rem\" font-weight=\"100\" text-anchor=\"middle\" >350</text>\n",
       "  <text x=\"96.363636\" y=\"60.000000\" font-size=\"1.0rem\" font-weight=\"100\" text-anchor=\"middle\" transform=\"rotate(-90,96.363636,60.000000)\">550</text>\n",
       "</svg>\n",
       "        </td>\n",
       "    </tr>\n",
       "</table></div></li><li class='xr-var-item'><div class='xr-var-name'><span>TAUX</span></div><div class='xr-var-dims'>(nlat, nlon)</div><div class='xr-var-dtype'>float32</div><div class='xr-var-preview xr-preview'>dask.array&lt;chunksize=(550, 350), meta=np.ndarray&gt;</div><input id='attrs-830044eb-370a-449e-9a1c-ee48c1000c59' class='xr-var-attrs-in' type='checkbox' disabled><label for='attrs-830044eb-370a-449e-9a1c-ee48c1000c59' title='Show/Hide attributes'><svg class='icon xr-icon-file-text2'><use xlink:href='#icon-file-text2'></use></svg></label><input id='data-325fdce5-7211-4eee-8c6b-f699b4b8803c' class='xr-var-data-in' type='checkbox'><label for='data-325fdce5-7211-4eee-8c6b-f699b4b8803c' title='Show/Hide data repr'><svg class='icon xr-icon-database'><use xlink:href='#icon-database'></use></svg></label><div class='xr-var-attrs'><dl class='xr-attrs'></dl></div><div class='xr-var-data'><table>\n",
       "    <tr>\n",
       "        <td>\n",
       "            <table style=\"border-collapse: collapse;\">\n",
       "                <thead>\n",
       "                    <tr>\n",
       "                        <td> </td>\n",
       "                        <th> Array </th>\n",
       "                        <th> Chunk </th>\n",
       "                    </tr>\n",
       "                </thead>\n",
       "                <tbody>\n",
       "                    \n",
       "                    <tr>\n",
       "                        <th> Bytes </th>\n",
       "                        <td> 751.95 kiB </td>\n",
       "                        <td> 751.95 kiB </td>\n",
       "                    </tr>\n",
       "                    \n",
       "                    <tr>\n",
       "                        <th> Shape </th>\n",
       "                        <td> (550, 350) </td>\n",
       "                        <td> (550, 350) </td>\n",
       "                    </tr>\n",
       "                    <tr>\n",
       "                        <th> Dask graph </th>\n",
       "                        <td colspan=\"2\"> 1 chunks in 4 graph layers </td>\n",
       "                    </tr>\n",
       "                    <tr>\n",
       "                        <th> Data type </th>\n",
       "                        <td colspan=\"2\"> float32 numpy.ndarray </td>\n",
       "                    </tr>\n",
       "                </tbody>\n",
       "            </table>\n",
       "        </td>\n",
       "        <td>\n",
       "        <svg width=\"126\" height=\"170\" style=\"stroke:rgb(0,0,0);stroke-width:1\" >\n",
       "\n",
       "  <!-- Horizontal lines -->\n",
       "  <line x1=\"0\" y1=\"0\" x2=\"76\" y2=\"0\" style=\"stroke-width:2\" />\n",
       "  <line x1=\"0\" y1=\"120\" x2=\"76\" y2=\"120\" style=\"stroke-width:2\" />\n",
       "\n",
       "  <!-- Vertical lines -->\n",
       "  <line x1=\"0\" y1=\"0\" x2=\"0\" y2=\"120\" style=\"stroke-width:2\" />\n",
       "  <line x1=\"76\" y1=\"0\" x2=\"76\" y2=\"120\" style=\"stroke-width:2\" />\n",
       "\n",
       "  <!-- Colored Rectangle -->\n",
       "  <polygon points=\"0.0,0.0 76.36363636363636,0.0 76.36363636363636,120.0 0.0,120.0\" style=\"fill:#ECB172A0;stroke-width:0\"/>\n",
       "\n",
       "  <!-- Text -->\n",
       "  <text x=\"38.181818\" y=\"140.000000\" font-size=\"1.0rem\" font-weight=\"100\" text-anchor=\"middle\" >350</text>\n",
       "  <text x=\"96.363636\" y=\"60.000000\" font-size=\"1.0rem\" font-weight=\"100\" text-anchor=\"middle\" transform=\"rotate(-90,96.363636,60.000000)\">550</text>\n",
       "</svg>\n",
       "        </td>\n",
       "    </tr>\n",
       "</table></div></li><li class='xr-var-item'><div class='xr-var-name'><span>TAUY</span></div><div class='xr-var-dims'>(nlat, nlon)</div><div class='xr-var-dtype'>float32</div><div class='xr-var-preview xr-preview'>dask.array&lt;chunksize=(550, 350), meta=np.ndarray&gt;</div><input id='attrs-4e45c05b-213e-4850-8eb7-db5ecb1e98ae' class='xr-var-attrs-in' type='checkbox' disabled><label for='attrs-4e45c05b-213e-4850-8eb7-db5ecb1e98ae' title='Show/Hide attributes'><svg class='icon xr-icon-file-text2'><use xlink:href='#icon-file-text2'></use></svg></label><input id='data-7b05937b-d2bf-42e3-89b8-f1f103d6a584' class='xr-var-data-in' type='checkbox'><label for='data-7b05937b-d2bf-42e3-89b8-f1f103d6a584' title='Show/Hide data repr'><svg class='icon xr-icon-database'><use xlink:href='#icon-database'></use></svg></label><div class='xr-var-attrs'><dl class='xr-attrs'></dl></div><div class='xr-var-data'><table>\n",
       "    <tr>\n",
       "        <td>\n",
       "            <table style=\"border-collapse: collapse;\">\n",
       "                <thead>\n",
       "                    <tr>\n",
       "                        <td> </td>\n",
       "                        <th> Array </th>\n",
       "                        <th> Chunk </th>\n",
       "                    </tr>\n",
       "                </thead>\n",
       "                <tbody>\n",
       "                    \n",
       "                    <tr>\n",
       "                        <th> Bytes </th>\n",
       "                        <td> 751.95 kiB </td>\n",
       "                        <td> 751.95 kiB </td>\n",
       "                    </tr>\n",
       "                    \n",
       "                    <tr>\n",
       "                        <th> Shape </th>\n",
       "                        <td> (550, 350) </td>\n",
       "                        <td> (550, 350) </td>\n",
       "                    </tr>\n",
       "                    <tr>\n",
       "                        <th> Dask graph </th>\n",
       "                        <td colspan=\"2\"> 1 chunks in 4 graph layers </td>\n",
       "                    </tr>\n",
       "                    <tr>\n",
       "                        <th> Data type </th>\n",
       "                        <td colspan=\"2\"> float32 numpy.ndarray </td>\n",
       "                    </tr>\n",
       "                </tbody>\n",
       "            </table>\n",
       "        </td>\n",
       "        <td>\n",
       "        <svg width=\"126\" height=\"170\" style=\"stroke:rgb(0,0,0);stroke-width:1\" >\n",
       "\n",
       "  <!-- Horizontal lines -->\n",
       "  <line x1=\"0\" y1=\"0\" x2=\"76\" y2=\"0\" style=\"stroke-width:2\" />\n",
       "  <line x1=\"0\" y1=\"120\" x2=\"76\" y2=\"120\" style=\"stroke-width:2\" />\n",
       "\n",
       "  <!-- Vertical lines -->\n",
       "  <line x1=\"0\" y1=\"0\" x2=\"0\" y2=\"120\" style=\"stroke-width:2\" />\n",
       "  <line x1=\"76\" y1=\"0\" x2=\"76\" y2=\"120\" style=\"stroke-width:2\" />\n",
       "\n",
       "  <!-- Colored Rectangle -->\n",
       "  <polygon points=\"0.0,0.0 76.36363636363636,0.0 76.36363636363636,120.0 0.0,120.0\" style=\"fill:#ECB172A0;stroke-width:0\"/>\n",
       "\n",
       "  <!-- Text -->\n",
       "  <text x=\"38.181818\" y=\"140.000000\" font-size=\"1.0rem\" font-weight=\"100\" text-anchor=\"middle\" >350</text>\n",
       "  <text x=\"96.363636\" y=\"60.000000\" font-size=\"1.0rem\" font-weight=\"100\" text-anchor=\"middle\" transform=\"rotate(-90,96.363636,60.000000)\">550</text>\n",
       "</svg>\n",
       "        </td>\n",
       "    </tr>\n",
       "</table></div></li><li class='xr-var-item'><div class='xr-var-name'><span>U</span></div><div class='xr-var-dims'>(nlat, nlon)</div><div class='xr-var-dtype'>float32</div><div class='xr-var-preview xr-preview'>dask.array&lt;chunksize=(550, 350), meta=np.ndarray&gt;</div><input id='attrs-d7fd1e25-b9c7-4bbe-a9aa-fda2c0e25029' class='xr-var-attrs-in' type='checkbox' disabled><label for='attrs-d7fd1e25-b9c7-4bbe-a9aa-fda2c0e25029' title='Show/Hide attributes'><svg class='icon xr-icon-file-text2'><use xlink:href='#icon-file-text2'></use></svg></label><input id='data-708374d7-2475-43c1-923c-ba43b5704685' class='xr-var-data-in' type='checkbox'><label for='data-708374d7-2475-43c1-923c-ba43b5704685' title='Show/Hide data repr'><svg class='icon xr-icon-database'><use xlink:href='#icon-database'></use></svg></label><div class='xr-var-attrs'><dl class='xr-attrs'></dl></div><div class='xr-var-data'><table>\n",
       "    <tr>\n",
       "        <td>\n",
       "            <table style=\"border-collapse: collapse;\">\n",
       "                <thead>\n",
       "                    <tr>\n",
       "                        <td> </td>\n",
       "                        <th> Array </th>\n",
       "                        <th> Chunk </th>\n",
       "                    </tr>\n",
       "                </thead>\n",
       "                <tbody>\n",
       "                    \n",
       "                    <tr>\n",
       "                        <th> Bytes </th>\n",
       "                        <td> 751.95 kiB </td>\n",
       "                        <td> 751.95 kiB </td>\n",
       "                    </tr>\n",
       "                    \n",
       "                    <tr>\n",
       "                        <th> Shape </th>\n",
       "                        <td> (550, 350) </td>\n",
       "                        <td> (550, 350) </td>\n",
       "                    </tr>\n",
       "                    <tr>\n",
       "                        <th> Dask graph </th>\n",
       "                        <td colspan=\"2\"> 1 chunks in 4 graph layers </td>\n",
       "                    </tr>\n",
       "                    <tr>\n",
       "                        <th> Data type </th>\n",
       "                        <td colspan=\"2\"> float32 numpy.ndarray </td>\n",
       "                    </tr>\n",
       "                </tbody>\n",
       "            </table>\n",
       "        </td>\n",
       "        <td>\n",
       "        <svg width=\"126\" height=\"170\" style=\"stroke:rgb(0,0,0);stroke-width:1\" >\n",
       "\n",
       "  <!-- Horizontal lines -->\n",
       "  <line x1=\"0\" y1=\"0\" x2=\"76\" y2=\"0\" style=\"stroke-width:2\" />\n",
       "  <line x1=\"0\" y1=\"120\" x2=\"76\" y2=\"120\" style=\"stroke-width:2\" />\n",
       "\n",
       "  <!-- Vertical lines -->\n",
       "  <line x1=\"0\" y1=\"0\" x2=\"0\" y2=\"120\" style=\"stroke-width:2\" />\n",
       "  <line x1=\"76\" y1=\"0\" x2=\"76\" y2=\"120\" style=\"stroke-width:2\" />\n",
       "\n",
       "  <!-- Colored Rectangle -->\n",
       "  <polygon points=\"0.0,0.0 76.36363636363636,0.0 76.36363636363636,120.0 0.0,120.0\" style=\"fill:#ECB172A0;stroke-width:0\"/>\n",
       "\n",
       "  <!-- Text -->\n",
       "  <text x=\"38.181818\" y=\"140.000000\" font-size=\"1.0rem\" font-weight=\"100\" text-anchor=\"middle\" >350</text>\n",
       "  <text x=\"96.363636\" y=\"60.000000\" font-size=\"1.0rem\" font-weight=\"100\" text-anchor=\"middle\" transform=\"rotate(-90,96.363636,60.000000)\">550</text>\n",
       "</svg>\n",
       "        </td>\n",
       "    </tr>\n",
       "</table></div></li><li class='xr-var-item'><div class='xr-var-name'><span>V</span></div><div class='xr-var-dims'>(nlat, nlon)</div><div class='xr-var-dtype'>float32</div><div class='xr-var-preview xr-preview'>dask.array&lt;chunksize=(550, 350), meta=np.ndarray&gt;</div><input id='attrs-75da0198-9780-4507-a03b-23a938114a86' class='xr-var-attrs-in' type='checkbox' disabled><label for='attrs-75da0198-9780-4507-a03b-23a938114a86' title='Show/Hide attributes'><svg class='icon xr-icon-file-text2'><use xlink:href='#icon-file-text2'></use></svg></label><input id='data-87ffc3c6-ebb0-408f-ad2b-4ef1ab759e04' class='xr-var-data-in' type='checkbox'><label for='data-87ffc3c6-ebb0-408f-ad2b-4ef1ab759e04' title='Show/Hide data repr'><svg class='icon xr-icon-database'><use xlink:href='#icon-database'></use></svg></label><div class='xr-var-attrs'><dl class='xr-attrs'></dl></div><div class='xr-var-data'><table>\n",
       "    <tr>\n",
       "        <td>\n",
       "            <table style=\"border-collapse: collapse;\">\n",
       "                <thead>\n",
       "                    <tr>\n",
       "                        <td> </td>\n",
       "                        <th> Array </th>\n",
       "                        <th> Chunk </th>\n",
       "                    </tr>\n",
       "                </thead>\n",
       "                <tbody>\n",
       "                    \n",
       "                    <tr>\n",
       "                        <th> Bytes </th>\n",
       "                        <td> 751.95 kiB </td>\n",
       "                        <td> 751.95 kiB </td>\n",
       "                    </tr>\n",
       "                    \n",
       "                    <tr>\n",
       "                        <th> Shape </th>\n",
       "                        <td> (550, 350) </td>\n",
       "                        <td> (550, 350) </td>\n",
       "                    </tr>\n",
       "                    <tr>\n",
       "                        <th> Dask graph </th>\n",
       "                        <td colspan=\"2\"> 1 chunks in 4 graph layers </td>\n",
       "                    </tr>\n",
       "                    <tr>\n",
       "                        <th> Data type </th>\n",
       "                        <td colspan=\"2\"> float32 numpy.ndarray </td>\n",
       "                    </tr>\n",
       "                </tbody>\n",
       "            </table>\n",
       "        </td>\n",
       "        <td>\n",
       "        <svg width=\"126\" height=\"170\" style=\"stroke:rgb(0,0,0);stroke-width:1\" >\n",
       "\n",
       "  <!-- Horizontal lines -->\n",
       "  <line x1=\"0\" y1=\"0\" x2=\"76\" y2=\"0\" style=\"stroke-width:2\" />\n",
       "  <line x1=\"0\" y1=\"120\" x2=\"76\" y2=\"120\" style=\"stroke-width:2\" />\n",
       "\n",
       "  <!-- Vertical lines -->\n",
       "  <line x1=\"0\" y1=\"0\" x2=\"0\" y2=\"120\" style=\"stroke-width:2\" />\n",
       "  <line x1=\"76\" y1=\"0\" x2=\"76\" y2=\"120\" style=\"stroke-width:2\" />\n",
       "\n",
       "  <!-- Colored Rectangle -->\n",
       "  <polygon points=\"0.0,0.0 76.36363636363636,0.0 76.36363636363636,120.0 0.0,120.0\" style=\"fill:#ECB172A0;stroke-width:0\"/>\n",
       "\n",
       "  <!-- Text -->\n",
       "  <text x=\"38.181818\" y=\"140.000000\" font-size=\"1.0rem\" font-weight=\"100\" text-anchor=\"middle\" >350</text>\n",
       "  <text x=\"96.363636\" y=\"60.000000\" font-size=\"1.0rem\" font-weight=\"100\" text-anchor=\"middle\" transform=\"rotate(-90,96.363636,60.000000)\">550</text>\n",
       "</svg>\n",
       "        </td>\n",
       "    </tr>\n",
       "</table></div></li><li class='xr-var-item'><div class='xr-var-name'><span>X</span></div><div class='xr-var-dims'>(nlat, nlon)</div><div class='xr-var-dtype'>float64</div><div class='xr-var-preview xr-preview'>dask.array&lt;chunksize=(550, 350), meta=np.ndarray&gt;</div><input id='attrs-8912cb41-c51a-4630-86fd-cc5b02dedb7a' class='xr-var-attrs-in' type='checkbox' disabled><label for='attrs-8912cb41-c51a-4630-86fd-cc5b02dedb7a' title='Show/Hide attributes'><svg class='icon xr-icon-file-text2'><use xlink:href='#icon-file-text2'></use></svg></label><input id='data-be83943e-1bcd-4ac5-9ff3-d06173fc37cb' class='xr-var-data-in' type='checkbox'><label for='data-be83943e-1bcd-4ac5-9ff3-d06173fc37cb' title='Show/Hide data repr'><svg class='icon xr-icon-database'><use xlink:href='#icon-database'></use></svg></label><div class='xr-var-attrs'><dl class='xr-attrs'></dl></div><div class='xr-var-data'><table>\n",
       "    <tr>\n",
       "        <td>\n",
       "            <table style=\"border-collapse: collapse;\">\n",
       "                <thead>\n",
       "                    <tr>\n",
       "                        <td> </td>\n",
       "                        <th> Array </th>\n",
       "                        <th> Chunk </th>\n",
       "                    </tr>\n",
       "                </thead>\n",
       "                <tbody>\n",
       "                    \n",
       "                    <tr>\n",
       "                        <th> Bytes </th>\n",
       "                        <td> 1.47 MiB </td>\n",
       "                        <td> 1.47 MiB </td>\n",
       "                    </tr>\n",
       "                    \n",
       "                    <tr>\n",
       "                        <th> Shape </th>\n",
       "                        <td> (550, 350) </td>\n",
       "                        <td> (550, 350) </td>\n",
       "                    </tr>\n",
       "                    <tr>\n",
       "                        <th> Dask graph </th>\n",
       "                        <td colspan=\"2\"> 1 chunks in 4 graph layers </td>\n",
       "                    </tr>\n",
       "                    <tr>\n",
       "                        <th> Data type </th>\n",
       "                        <td colspan=\"2\"> float64 numpy.ndarray </td>\n",
       "                    </tr>\n",
       "                </tbody>\n",
       "            </table>\n",
       "        </td>\n",
       "        <td>\n",
       "        <svg width=\"126\" height=\"170\" style=\"stroke:rgb(0,0,0);stroke-width:1\" >\n",
       "\n",
       "  <!-- Horizontal lines -->\n",
       "  <line x1=\"0\" y1=\"0\" x2=\"76\" y2=\"0\" style=\"stroke-width:2\" />\n",
       "  <line x1=\"0\" y1=\"120\" x2=\"76\" y2=\"120\" style=\"stroke-width:2\" />\n",
       "\n",
       "  <!-- Vertical lines -->\n",
       "  <line x1=\"0\" y1=\"0\" x2=\"0\" y2=\"120\" style=\"stroke-width:2\" />\n",
       "  <line x1=\"76\" y1=\"0\" x2=\"76\" y2=\"120\" style=\"stroke-width:2\" />\n",
       "\n",
       "  <!-- Colored Rectangle -->\n",
       "  <polygon points=\"0.0,0.0 76.36363636363636,0.0 76.36363636363636,120.0 0.0,120.0\" style=\"fill:#ECB172A0;stroke-width:0\"/>\n",
       "\n",
       "  <!-- Text -->\n",
       "  <text x=\"38.181818\" y=\"140.000000\" font-size=\"1.0rem\" font-weight=\"100\" text-anchor=\"middle\" >350</text>\n",
       "  <text x=\"96.363636\" y=\"60.000000\" font-size=\"1.0rem\" font-weight=\"100\" text-anchor=\"middle\" transform=\"rotate(-90,96.363636,60.000000)\">550</text>\n",
       "</svg>\n",
       "        </td>\n",
       "    </tr>\n",
       "</table></div></li><li class='xr-var-item'><div class='xr-var-name'><span>mask</span></div><div class='xr-var-dims'>(nlat, nlon)</div><div class='xr-var-dtype'>bool</div><div class='xr-var-preview xr-preview'>dask.array&lt;chunksize=(100, 350), meta=np.ndarray&gt;</div><input id='attrs-0c6c6b9a-aadb-4d46-a08c-4df82e984f30' class='xr-var-attrs-in' type='checkbox' disabled><label for='attrs-0c6c6b9a-aadb-4d46-a08c-4df82e984f30' title='Show/Hide attributes'><svg class='icon xr-icon-file-text2'><use xlink:href='#icon-file-text2'></use></svg></label><input id='data-38592688-d244-4cea-94bd-afa47e63984b' class='xr-var-data-in' type='checkbox'><label for='data-38592688-d244-4cea-94bd-afa47e63984b' title='Show/Hide data repr'><svg class='icon xr-icon-database'><use xlink:href='#icon-database'></use></svg></label><div class='xr-var-attrs'><dl class='xr-attrs'></dl></div><div class='xr-var-data'><table>\n",
       "    <tr>\n",
       "        <td>\n",
       "            <table style=\"border-collapse: collapse;\">\n",
       "                <thead>\n",
       "                    <tr>\n",
       "                        <td> </td>\n",
       "                        <th> Array </th>\n",
       "                        <th> Chunk </th>\n",
       "                    </tr>\n",
       "                </thead>\n",
       "                <tbody>\n",
       "                    \n",
       "                    <tr>\n",
       "                        <th> Bytes </th>\n",
       "                        <td> 187.99 kiB </td>\n",
       "                        <td> 153.81 kiB </td>\n",
       "                    </tr>\n",
       "                    \n",
       "                    <tr>\n",
       "                        <th> Shape </th>\n",
       "                        <td> (550, 350) </td>\n",
       "                        <td> (450, 350) </td>\n",
       "                    </tr>\n",
       "                    <tr>\n",
       "                        <th> Dask graph </th>\n",
       "                        <td colspan=\"2\"> 2 chunks in 4 graph layers </td>\n",
       "                    </tr>\n",
       "                    <tr>\n",
       "                        <th> Data type </th>\n",
       "                        <td colspan=\"2\"> bool numpy.ndarray </td>\n",
       "                    </tr>\n",
       "                </tbody>\n",
       "            </table>\n",
       "        </td>\n",
       "        <td>\n",
       "        <svg width=\"126\" height=\"170\" style=\"stroke:rgb(0,0,0);stroke-width:1\" >\n",
       "\n",
       "  <!-- Horizontal lines -->\n",
       "  <line x1=\"0\" y1=\"0\" x2=\"76\" y2=\"0\" style=\"stroke-width:2\" />\n",
       "  <line x1=\"0\" y1=\"21\" x2=\"76\" y2=\"21\" />\n",
       "  <line x1=\"0\" y1=\"120\" x2=\"76\" y2=\"120\" style=\"stroke-width:2\" />\n",
       "\n",
       "  <!-- Vertical lines -->\n",
       "  <line x1=\"0\" y1=\"0\" x2=\"0\" y2=\"120\" style=\"stroke-width:2\" />\n",
       "  <line x1=\"76\" y1=\"0\" x2=\"76\" y2=\"120\" style=\"stroke-width:2\" />\n",
       "\n",
       "  <!-- Colored Rectangle -->\n",
       "  <polygon points=\"0.0,0.0 76.36363636363636,0.0 76.36363636363636,120.0 0.0,120.0\" style=\"fill:#ECB172A0;stroke-width:0\"/>\n",
       "\n",
       "  <!-- Text -->\n",
       "  <text x=\"38.181818\" y=\"140.000000\" font-size=\"1.0rem\" font-weight=\"100\" text-anchor=\"middle\" >350</text>\n",
       "  <text x=\"96.363636\" y=\"60.000000\" font-size=\"1.0rem\" font-weight=\"100\" text-anchor=\"middle\" transform=\"rotate(-90,96.363636,60.000000)\">550</text>\n",
       "</svg>\n",
       "        </td>\n",
       "    </tr>\n",
       "</table></div></li></ul></div></li><li class='xr-section-item'><input id='section-acabc615-c4a3-4284-a875-6005a7a40258' class='xr-section-summary-in' type='checkbox' disabled ><label for='section-acabc615-c4a3-4284-a875-6005a7a40258' class='xr-section-summary'  title='Expand/collapse section'>Indexes: <span>(0)</span></label><div class='xr-section-inline-details'></div><div class='xr-section-details'><ul class='xr-var-list'></ul></div></li><li class='xr-section-item'><input id='section-ebe7a511-aab1-4970-b8ca-7668de85fb70' class='xr-section-summary-in' type='checkbox' disabled ><label for='section-ebe7a511-aab1-4970-b8ca-7668de85fb70' class='xr-section-summary'  title='Expand/collapse section'>Attributes: <span>(0)</span></label><div class='xr-section-inline-details'></div><div class='xr-section-details'><dl class='xr-attrs'></dl></div></li></ul></div></div>"
      ],
      "text/plain": [
       "<xarray.Dataset>\n",
       "Dimensions:  (nlat: 550, nlon: 350)\n",
       "Dimensions without coordinates: nlat, nlon\n",
       "Data variables:\n",
       "    SSH      (nlat, nlon) float32 dask.array<chunksize=(550, 350), meta=np.ndarray>\n",
       "    SST      (nlat, nlon) float32 dask.array<chunksize=(550, 350), meta=np.ndarray>\n",
       "    TAUX     (nlat, nlon) float32 dask.array<chunksize=(550, 350), meta=np.ndarray>\n",
       "    TAUY     (nlat, nlon) float32 dask.array<chunksize=(550, 350), meta=np.ndarray>\n",
       "    U        (nlat, nlon) float32 dask.array<chunksize=(550, 350), meta=np.ndarray>\n",
       "    V        (nlat, nlon) float32 dask.array<chunksize=(550, 350), meta=np.ndarray>\n",
       "    X        (nlat, nlon) float64 dask.array<chunksize=(550, 350), meta=np.ndarray>\n",
       "    mask     (nlat, nlon) bool dask.array<chunksize=(100, 350), meta=np.ndarray>"
      ]
     },
     "execution_count": 9,
     "metadata": {},
     "output_type": "execute_result"
    }
   ],
   "source": [
    "ds_training = load_training_data(sc5)\n",
    "ds_training = just_the_data(ds_training)\n",
    "ds_training = select_from(ds_training)\n",
    "ds_training"
   ]
  },
  {
   "attachments": {},
   "cell_type": "markdown",
   "id": "6fd94564",
   "metadata": {},
   "source": [
    "## Testing setup for graph conversions\n",
    "\n",
    "To be clear, we are starting with xarray data, and we want to convert it to a data type compatible with torch_geometric. We can probably convert it all manually, but the conversion functions between networkx and torch_geometric are appealing. networkx also has a few other functions that provide an added benefit. \n",
    "\n",
    "However, there is currently no official way to convert xarray data to networkx, so we'll have to do that manually.\n",
    "\n",
    "So, how will we know if this conversion actually works? We can set up a couple of unit tests with data that represents a corner case, wherein the valid portions of the stencil are completely separated by lanes of invalid data. This situation could occur around places like Panama, southern Thailand, Italy, or some other isthmuses or islands. This could pose a problem for a graph neural network if each stencil is treated as a single graph, because in these cases, a stencil would include two or more completely separate subgraphs.\n",
    "\n",
    "We start by defining a 2-dimensional map function. This is helpful because we can apply a single function to an entire 2D array of values."
   ]
  },
  {
   "cell_type": "code",
   "execution_count": 10,
   "id": "ebee9181-b1d5-40aa-a190-d25c88cccfef",
   "metadata": {},
   "outputs": [],
   "source": [
    "def map2d(array, func):\n",
    "    return [[func(y, i, j) for j, y in enumerate(x)] for i, x in enumerate(array)]"
   ]
  },
  {
   "cell_type": "code",
   "execution_count": 11,
   "id": "cdf99600-94a1-4102-bff9-62e21e257310",
   "metadata": {},
   "outputs": [],
   "source": [
    "def map2d_test():\n",
    "    sample = np.random.choice(a=[False, True], size=(20, 20))\n",
    "    pred1 = lambda x, *_: not x\n",
    "    not_sample = map2d(sample, pred1)\n",
    "    np.testing.assert_array_equal(sample, map2d(not_sample, pred1))\n",
    "    pass"
   ]
  },
  {
   "cell_type": "code",
   "execution_count": 12,
   "id": "9ffe2a51-b13f-44d3-a627-7a0fc01966d7",
   "metadata": {},
   "outputs": [],
   "source": [
    "map2d_test()"
   ]
  },
  {
   "attachments": {},
   "cell_type": "markdown",
   "id": "ec0cf588",
   "metadata": {},
   "source": [
    "Now that we know that works, we can create our test arrays. The first array will only have valid data near the corners of the stencil, and the second array will have a lane of nans cutting along a diagonal."
   ]
  },
  {
   "cell_type": "code",
   "execution_count": 13,
   "id": "2fb1621d-1a0c-43a3-97bd-42f4407cf34e",
   "metadata": {},
   "outputs": [],
   "source": [
    "def distance_from(array, point_i, point_j):\n",
    "    dist = lambda _, i, j: np.sqrt(float(point_i - i)**2 + float(point_j - j)**2)\n",
    "    return map2d(array, dist)\n",
    "\n",
    "def distance_mask(array, point_i, point_j):\n",
    "    size = array.shape[0]\n",
    "    dist = distance_from(array, point_i, point_j)\n",
    "    return map2d(dist, lambda x, *_: (x < size*0.4))\n",
    "\n",
    "def corners():\n",
    "    size = 12\n",
    "    z = np.zeros([size, size])\n",
    "\n",
    "    bl = np.array(distance_mask(z, 0,    0), dtype=bool)\n",
    "    br = np.array(distance_mask(z, size, 0), dtype=bool)\n",
    "    tl = np.array(distance_mask(z, 0, size), dtype=bool)\n",
    "    tr = np.array(distance_mask(z, size, size), dtype=bool)\n",
    "    \n",
    "    corners_mask = bl + br + tl + tr\n",
    "    \n",
    "    a = np.where(corners_mask, np.random.rand(1), np.NAN)\n",
    "    return(a)"
   ]
  },
  {
   "cell_type": "code",
   "execution_count": 14,
   "id": "7b14ee84-6711-4fcf-a1fd-5f2c3862e7e2",
   "metadata": {},
   "outputs": [
    {
     "data": {
      "text/plain": [
       "<matplotlib.contour.QuadContourSet at 0x1ed601e6520>"
      ]
     },
     "execution_count": 14,
     "metadata": {},
     "output_type": "execute_result"
    },
    {
     "data": {
      "image/png": "[encoded data removed]",
      "text/plain": [
       "<Figure size 640x480 with 1 Axes>"
      ]
     },
     "metadata": {},
     "output_type": "display_data"
    }
   ],
   "source": [
    "plt.contourf(corners())"
   ]
  },
  {
   "cell_type": "code",
   "execution_count": 15,
   "id": "36d97f50-24f6-4e5b-b451-5d1e1298c078",
   "metadata": {},
   "outputs": [],
   "source": [
    "def diag_mask(array):\n",
    "    size = array.shape[0]\n",
    "    return map2d(array, lambda _, i, j: (np.abs(i - j) > np.ceil(size/8.)))\n",
    "\n",
    "def diag():\n",
    "    size = 7\n",
    "    z = np.zeros([size, size])\n",
    "    a = np.where(diag_mask(z), np.random.rand(1), np.NAN)\n",
    "    return(a)"
   ]
  },
  {
   "cell_type": "code",
   "execution_count": 16,
   "id": "44d9c5af-71d8-45c0-92c3-60b6d7dc1347",
   "metadata": {},
   "outputs": [
    {
     "data": {
      "text/plain": [
       "<matplotlib.contour.QuadContourSet at 0x1ed6029bca0>"
      ]
     },
     "execution_count": 16,
     "metadata": {},
     "output_type": "execute_result"
    },
    {
     "data": {
      "image/png": "[encoded data removed]",
      "text/plain": [
       "<Figure size 640x480 with 1 Axes>"
      ]
     },
     "metadata": {},
     "output_type": "display_data"
    }
   ],
   "source": [
    "plt.contourf(diag())"
   ]
  },
  {
   "attachments": {},
   "cell_type": "markdown",
   "id": "2df2c258",
   "metadata": {},
   "source": [
    "## Array to Graph Conversion"
   ]
  },
  {
   "attachments": {},
   "cell_type": "markdown",
   "id": "e60adb19",
   "metadata": {},
   "source": [
    "Now we can implement functions to convert numpy-like arrays to networkx graphs. Since we are assuming the stencils we're interested in are two-dimensional grids, we can make some assumptions.\n",
    "\n",
    "- We only need to add an edge for a node if its neighbor is above it or to the right. For a point in the middle of the stencil, the other two possible edges are already accounted for if we treat the stencil as a tesselation of individual nodes with two edges.\n",
    "- For the stencil's upper and right-side boundaries, we don't need to check for upper and right-side edges, respectively. because there can't be another edge there.\n",
    "\n",
    "The function `point_to_graph` likewise takes an individual point and returns valid edges between the point and its upward or rightward neighbor.\n",
    "\n",
    "One some level, this method of drawing edges is arbitrary, so one could create different kinds of lattices by reworking this function."
   ]
  },
  {
   "cell_type": "code",
   "execution_count": 17,
   "id": "dc6a691d-e8ae-4f4b-ac6f-291f316956e9",
   "metadata": {},
   "outputs": [],
   "source": [
    "def point_to_graph(mask, i, j, imax, jmax, weight=1.0):\n",
    "    edges = []\n",
    "\n",
    "    if not (j == jmax):\n",
    "        if mask[i, j+1]:\n",
    "            edges.append([(i,j), (i,j+1), weight])\n",
    "\n",
    "    if not (i == imax):\n",
    "        if mask[i+1,j]:\n",
    "            edges.append([(i,j), (i+1,j), weight])\n",
    "\n",
    "    return edges"
   ]
  },
  {
   "attachments": {},
   "cell_type": "markdown",
   "id": "5ca116e2",
   "metadata": {},
   "source": [
    "Here we have the actual functions for constructing an individual graph. Considering that a graph's shape is independent of the data, we can also construct a \"blank\" graph from a NaN mask, so that's also provided here.\n",
    "\n",
    "networkx graphs are constructed by initializing a graph with `nx.Graph`, then adding individual nodes and edges. Since we already worked out how to find edges iteratively, we can use the same pattern here. "
   ]
  },
  {
   "cell_type": "code",
   "execution_count": 18,
   "id": "4701ae0c-25b1-4ab0-9168-3c3f3267e825",
   "metadata": {},
   "outputs": [],
   "source": [
    "# def np_point_degree(array, i, j):\n",
    "#     return np.sum(np.isnan([array([i,j+1]),\n",
    "#                             array([i,j-1]),\n",
    "#                             array([i+1,j]),\n",
    "#                             array([i-1,j])]))\n",
    "\n",
    "def np_array_to_graph(array):\n",
    "    graph = nx.Graph()\n",
    "    mask = ~np.isnan(array)\n",
    "\n",
    "    imax = array.shape[0]-1\n",
    "    jmax = array.shape[1]-1\n",
    "\n",
    "    for i in range(0, imax+1):\n",
    "        for j in range(0, jmax+1):\n",
    "            if mask[i,j]:\n",
    "                graph.add_node((i,j))\n",
    "                edges = point_to_graph(mask, i, j, imax, jmax)\n",
    "                graph.add_weighted_edges_from(edges)\n",
    "            \n",
    "    return graph\n",
    "\n",
    "def np_mask_to_graph(mask):\n",
    "    array = np.zeros(mask.shape)\n",
    "    for i in range(0, array.shape[0]):\n",
    "        for j in range(0,array.shape[1]):\n",
    "            if not mask[i, j]:\n",
    "                array[i, j] = np.nan\n",
    "    return np_array_to_graph(array)"
   ]
  },
  {
   "attachments": {},
   "cell_type": "markdown",
   "id": "a00c384a",
   "metadata": {},
   "source": [
    "Now, we want to separate any graphs that contain independent subgraphs with `nx.connected_components`."
   ]
  },
  {
   "cell_type": "code",
   "execution_count": 19,
   "id": "46553b92",
   "metadata": {},
   "outputs": [],
   "source": [
    "def np_array_to_subgraphs(array):\n",
    "    g = np_array_to_graph(array)\n",
    "    return [g.subgraph(sub) for sub in nx.connected_components(g)]\n",
    "\n",
    "def np_mask_to_subgraphs(mask):\n",
    "    g = np_mask_to_graph(mask)\n",
    "    return [g.subgraph(sub) for sub in nx.connected_components(g)]"
   ]
  },
  {
   "cell_type": "code",
   "execution_count": 20,
   "id": "f96fa7a1-485a-4c3f-a2d2-dc42192514c5",
   "metadata": {},
   "outputs": [
    {
     "data": {
      "image/png": "[encoded data removed]",
      "text/plain": [
       "<Figure size 640x480 with 1 Axes>"
      ]
     },
     "metadata": {},
     "output_type": "display_data"
    }
   ],
   "source": [
    "c = corners()\n",
    "gc = np_array_to_graph(c)\n",
    "nx.draw(gc)"
   ]
  },
  {
   "attachments": {},
   "cell_type": "markdown",
   "id": "6b04c8ab",
   "metadata": {},
   "source": [
    "We can see that even though the four distinct subgraphs from `corners()` are distorted, they have the same basic shape the did when we plotted the data as an array."
   ]
  },
  {
   "cell_type": "code",
   "execution_count": 21,
   "id": "b7d7fea6-e7fc-41f8-83f2-8be9b1c67009",
   "metadata": {},
   "outputs": [
    {
     "data": {
      "image/png": "[encoded data removed]",
      "text/plain": [
       "<Figure size 640x480 with 1 Axes>"
      ]
     },
     "metadata": {},
     "output_type": "display_data"
    }
   ],
   "source": [
    "d = diag()\n",
    "gd = np_array_to_graph(d)\n",
    "nx.draw(gd)"
   ]
  },
  {
   "attachments": {},
   "cell_type": "markdown",
   "id": "5edaeacb",
   "metadata": {},
   "source": [
    "The same is true when we plot graphs from `diag()`. These plots prove that we can successfully separate subgraphs, and therefore, we won't have to worry about this problem when we look at data near coastlines.\n",
    "\n",
    "You can see the individual subgraphs in greater detail in the next code block."
   ]
  },
  {
   "cell_type": "code",
   "execution_count": 22,
   "id": "e7c706fa-1fdd-4905-b84b-0fea736ad28b",
   "metadata": {},
   "outputs": [
    {
     "data": {
      "image/png": "[encoded data removed]",
      "text/plain": [
       "<Figure size 640x480 with 1 Axes>"
      ]
     },
     "metadata": {},
     "output_type": "display_data"
    }
   ],
   "source": [
    "subgc = np_array_to_subgraphs(c)\n",
    "subgd = np_array_to_subgraphs(d)\n",
    "nx.draw(subgc[3])"
   ]
  },
  {
   "attachments": {},
   "cell_type": "markdown",
   "id": "ee32cbe8",
   "metadata": {},
   "source": [
    "Now we can generalize to xarray datasets."
   ]
  },
  {
   "cell_type": "code",
   "execution_count": 23,
   "id": "6a885557-ffb8-4692-b597-4291797c4b66",
   "metadata": {},
   "outputs": [],
   "source": [
    "# bgen = xb.BatchGenerator(\n",
    "#     ds_training,\n",
    "#     {'nlon':6, 'nlat':6},\n",
    "#     {'nlon':2, 'nlat':2}\n",
    "# )"
   ]
  },
  {
   "cell_type": "code",
   "execution_count": 24,
   "id": "25cf86c4-edd0-4059-b4cf-d76e372e7763",
   "metadata": {},
   "outputs": [],
   "source": [
    "# for batch in bgen:\n",
    "#     a = batch\n",
    "#     break\n",
    "# a"
   ]
  },
  {
   "cell_type": "code",
   "execution_count": 25,
   "id": "e6943f9d-8c61-45f4-9085-062d934817ac",
   "metadata": {},
   "outputs": [],
   "source": [
    "# TEMP: formalize this\n",
    "\n",
    "nlats = 5\n",
    "nlons = 5\n",
    "halo_size=1"
   ]
  },
  {
   "cell_type": "code",
   "execution_count": 26,
   "id": "604dddf2-4332-4f9c-802b-d6adc242a2d9",
   "metadata": {},
   "outputs": [],
   "source": [
    "latlen = len(ds_training['nlat'])\n",
    "lonlen = len(ds_training['nlon'])\n",
    "nlon_range = range(nlons,lonlen,nlons - 2*halo_size)\n",
    "nlat_range = range(nlats,latlen,nlats - 2*halo_size)\n",
    "\n",
    "batch = (\n",
    "    ds_training\n",
    "    .rolling({\"nlat\": nlats, \"nlon\": nlons})\n",
    "    .construct({\"nlat\": \"nlat_input\", \"nlon\": \"nlon_input\"})[{'nlat':nlat_range, 'nlon':nlon_range}]\n",
    "    .stack({\"input_batch\": (\"nlat\", \"nlon\")}, create_index=False)\n",
    "    .rename_dims({'nlat_input':'nlat', 'nlon_input':'nlon'})\n",
    "    .transpose('input_batch',...)\n",
    "    # .chunk({'input_batch':32, 'nlat':nlats, 'nlon':nlons})\n",
    "    .dropna('input_batch')\n",
    ")"
   ]
  },
  {
   "cell_type": "code",
   "execution_count": 27,
   "id": "c9ca8e79-1bf7-41cc-870f-08181de4e485",
   "metadata": {},
   "outputs": [
    {
     "name": "stderr",
     "output_type": "stream",
     "text": [
      "c:\\Users\\cdupu\\anaconda3\\envs\\gnnCookbook\\lib\\site-packages\\xarray\\core\\indexing.py:1384: PerformanceWarning: Slicing with an out-of-order index is generating 3115 times more chunks\n",
      "  return self.array[key]\n"
     ]
    }
   ],
   "source": [
    "rnds = list(range(len(batch['input_batch'])))\n",
    "np.random.shuffle(rnds)\n",
    "batch = batch[{'input_batch':(rnds)}]"
   ]
  },
  {
   "cell_type": "code",
   "execution_count": 28,
   "id": "c9f09b20",
   "metadata": {},
   "outputs": [
    {
     "data": {
      "text/plain": [
       "20930"
      ]
     },
     "execution_count": 28,
     "metadata": {},
     "output_type": "execute_result"
    }
   ],
   "source": [
    "len(batch['input_batch'])"
   ]
  },
  {
   "cell_type": "code",
   "execution_count": 29,
   "id": "3f958db0",
   "metadata": {},
   "outputs": [],
   "source": [
    "batch2 = batch[{'input_batch':0}]"
   ]
  },
  {
   "cell_type": "code",
   "execution_count": 30,
   "id": "73f70f8f",
   "metadata": {},
   "outputs": [],
   "source": [
    "def graph_builder(mask, vars, names):\n",
    "    \n",
    "    imax = mask.shape[0]-1\n",
    "    jmax = mask.shape[1]-1\n",
    "\n",
    "    vars_graph = nx.Graph()\n",
    "    for i in range(0, imax+1):\n",
    "        for j in range(0, jmax+1):\n",
    "            if mask[i, j]:\n",
    "                edges = point_to_graph(mask, i, j, imax, jmax)\n",
    "                vars_ij = {x:vars[x][i,j] for x in names} #vars[x][i,j].to_numpy()\n",
    "                vars_graph.add_node((i,j), **vars_ij)\n",
    "                vars_graph.add_weighted_edges_from(edges,)\n",
    "                \n",
    "                # add self-loops\n",
    "                # vars_graph.add_edge((i,j), (i,j), weight=1.)\n",
    "\n",
    "    return vars_graph"
   ]
  },
  {
   "cell_type": "code",
   "execution_count": 31,
   "id": "3cb43d5a",
   "metadata": {},
   "outputs": [],
   "source": [
    "def contract(vars, mask, halo):\n",
    "\n",
    "    latmax = mask.sizes['nlat']\n",
    "    lonmax = mask.sizes['nlon']\n",
    "    \n",
    "    latrange = range(halo, latmax-halo)\n",
    "    lonrange = range(halo, lonmax-halo)\n",
    "    \n",
    "    stencil = {'nlat': latrange, 'nlon': lonrange}\n",
    "\n",
    "    sub = vars[stencil]\n",
    "    stencilled = {k:v.to_numpy() for k,v in sub.items()}\n",
    "    return stencilled"
   ]
  },
  {
   "cell_type": "code",
   "execution_count": 32,
   "id": "c91eedc5",
   "metadata": {},
   "outputs": [],
   "source": [
    "def convolve(vars, mask, kernel):\n",
    "    '''\n",
    "    Assumes kernel is a NxN matrix where N is odd\n",
    "    '''\n",
    "\n",
    "    latmax = mask.sizes['nlat']\n",
    "    lonmax = mask.sizes['nlon']\n",
    "\n",
    "    halo_lat = int(np.floor(kernel.sizes['nlat'] / 2.))\n",
    "    halo_lon = int(np.floor(kernel.sizes['nlon'] / 2.))\n",
    "    \n",
    "    latrange = range(halo_lat, latmax-halo_lat)\n",
    "    lonrange = range(halo_lon, lonmax-halo_lon)\n",
    "\n",
    "    conved = dict()\n",
    "    for k, v in vars.items():\n",
    "\n",
    "        cvar = np.zeros_like(v[latrange, lonrange])\n",
    "        for i, j in product(latrange, lonrange):\n",
    "            stencil = {\"nlat\": slice(i-halo_lat, i+halo_lat+1), \"nlon\": slice(j-halo_lon, j+halo_lon+1)}\n",
    "            msub = mask[stencil]\n",
    "\n",
    "            denominator = np.abs(kernel * msub).sum(dim=['nlat', 'nlon']) \n",
    "            if denominator == 0: # Should these be NaNs?\n",
    "                continue\n",
    "            \n",
    "            vsub = v[stencil]\n",
    "            numerator = (kernel * msub * vsub).sum(dim=['nlat', 'nlon'])\n",
    "            if np.isclose(numerator, 0.): # check tolerance vs. variable values \n",
    "                cvar[i-halo_lat,j-halo_lon] = 0.\n",
    "            else:\n",
    "                cvar[i-halo_lat,j-halo_lon] = numerator / denominator\n",
    "\n",
    "        conved.update({k:cvar})\n",
    "\n",
    "    return conved"
   ]
  },
  {
   "cell_type": "code",
   "execution_count": 33,
   "id": "6a0a7691",
   "metadata": {},
   "outputs": [],
   "source": [
    "kernel = xr.DataArray([[0,  1, 0],\n",
    "                       [-1, 0, 1],\n",
    "                       [0, -1, 0]],\n",
    "                       dims=[\"nlat\", \"nlon\"])"
   ]
  },
  {
   "cell_type": "code",
   "execution_count": 34,
   "id": "6230e3a2",
   "metadata": {},
   "outputs": [],
   "source": [
    "mask = batch2['mask']\n",
    "\n",
    "conv_f   = convolve(batch2[sc5.conv_var],  mask, kernel)\n",
    "\n",
    "features = contract(batch2[sc5.input_var], mask, 1)\n",
    "targets  = contract(batch2[sc5.target],    mask, 1)"
   ]
  },
  {
   "cell_type": "code",
   "execution_count": 35,
   "id": "120b45c4",
   "metadata": {},
   "outputs": [],
   "source": [
    "mask = contract(batch2[['mask']], mask, 1) # silly, but it works"
   ]
  },
  {
   "cell_type": "code",
   "execution_count": 36,
   "id": "804efb8d",
   "metadata": {},
   "outputs": [],
   "source": [
    "features = features | conv_f"
   ]
  },
  {
   "cell_type": "code",
   "execution_count": 37,
   "id": "ac10c8a7",
   "metadata": {},
   "outputs": [],
   "source": [
    "def xr_ds_to_graph(batch, sc, kernel):\n",
    "\n",
    "    mask = batch['mask']\n",
    "\n",
    "    # convolve and contract here\n",
    "\n",
    "    conv_f   = convolve(batch[sc5.conv_var],  mask, kernel)\n",
    "\n",
    "    features = contract(batch[sc5.input_var], mask, 1)\n",
    "    targets  = contract(batch[sc5.target],    mask, 1)\n",
    "    mask     = contract(batch[['mask']],      mask, 1)['mask'] # silly, but it works\n",
    "    \n",
    "    features = features | conv_f\n",
    "\n",
    "    features_graph = graph_builder(mask, features, sc.conv_var + sc.input_var)\n",
    "    targets_graph  = graph_builder(mask, targets,  sc.target)\n",
    "\n",
    "    return features_graph, targets_graph"
   ]
  },
  {
   "attachments": {},
   "cell_type": "markdown",
   "id": "ed1394d8",
   "metadata": {},
   "source": [
    "As before, we want to ensure that separate subgraphs are treated individually."
   ]
  },
  {
   "cell_type": "code",
   "execution_count": 38,
   "id": "65afa67e",
   "metadata": {},
   "outputs": [],
   "source": [
    "def xr_ds_to_subgraphs(batch, sc, kernel):\n",
    "    f, t = xr_ds_to_graph(batch, sc, kernel)\n",
    "    fsub = [f.subgraph(sub) for sub in nx.connected_components(f)]\n",
    "    tsub = [t.subgraph(sub) for sub in nx.connected_components(t)]\n",
    "    return fsub, tsub"
   ]
  },
  {
   "cell_type": "markdown",
   "id": "92d94f87",
   "metadata": {},
   "source": [
    "Need to convert arrays to subgraphs BEFORE the user-level batch generator, because we don't know how many subgraphs 'batch_to_subgraphs' is going to return."
   ]
  },
  {
   "cell_type": "code",
   "execution_count": 39,
   "id": "6e4f0709",
   "metadata": {},
   "outputs": [],
   "source": [
    "'''\n",
    "This function is just a placeholder function for various graph convolution operators, which can be passed to ggen_subgs.\n",
    "'''\n",
    "\n",
    "def graph_conv(graph):\n",
    "    return nx.laplacian_matrix(graph) * graph"
   ]
  },
  {
   "cell_type": "code",
   "execution_count": 40,
   "id": "b2e068d4",
   "metadata": {},
   "outputs": [],
   "source": [
    "#gconv=graph_conv\n",
    "fsub, tsub = xr_ds_to_subgraphs(batch2, sc5, kernel)\n",
    "#fsub"
   ]
  },
  {
   "cell_type": "code",
   "execution_count": 41,
   "id": "bba17b64",
   "metadata": {},
   "outputs": [
    {
     "data": {
      "image/png": "[encoded data removed]",
      "text/plain": [
       "<Figure size 640x480 with 1 Axes>"
      ]
     },
     "metadata": {},
     "output_type": "display_data"
    }
   ],
   "source": [
    "nx.draw(fsub[0])"
   ]
  },
  {
   "cell_type": "code",
   "execution_count": 42,
   "id": "b9f90495-6491-488a-85bc-e52e90b783d1",
   "metadata": {},
   "outputs": [
    {
     "data": {
      "text/plain": [
       "Data(edge_index=[2, 24], SSH=[9], SST=[9], X=[9], TAUX=[9], TAUY=[9], weight=[24], num_nodes=9)"
      ]
     },
     "execution_count": 42,
     "metadata": {},
     "output_type": "execute_result"
    }
   ],
   "source": [
    "from_networkx(fsub[0])"
   ]
  },
  {
   "cell_type": "code",
   "execution_count": 43,
   "id": "b74bc697",
   "metadata": {},
   "outputs": [
    {
     "data": {
      "text/plain": [
       "Data(edge_index=[2, 24], weight=[24], x=[9, 5])"
      ]
     },
     "execution_count": 43,
     "metadata": {},
     "output_type": "execute_result"
    }
   ],
   "source": [
    "from_networkx(fsub[0], group_node_attrs= sc5.conv_var + sc5.input_var)"
   ]
  },
  {
   "cell_type": "code",
   "execution_count": 44,
   "id": "bccd4f05",
   "metadata": {},
   "outputs": [
    {
     "data": {
      "text/plain": [
       "Data(edge_index=[2, 24], weight=[24], x=[9, 2])"
      ]
     },
     "execution_count": 44,
     "metadata": {},
     "output_type": "execute_result"
    }
   ],
   "source": [
    "from_networkx(tsub[0], group_node_attrs=sc5.target)"
   ]
  },
  {
   "cell_type": "code",
   "execution_count": 45,
   "id": "515e1928",
   "metadata": {},
   "outputs": [],
   "source": [
    "def ggen_subgs(batch_set, kernel, gconv=graph_conv):\n",
    "    for i in range(len(batch_set['input_batch'])):\n",
    "        batch = batch_set[{'input_batch':i}]\n",
    "        fsub, tsub = xr_ds_to_subgraphs(batch, sc5, kernel)\n",
    "\n",
    "        for j in range(len(fsub)):\n",
    "            # something goes wrong with the data structure here; we want\n",
    "            # graphs of tuples, not multiple graphs for each variable\n",
    "            fpy = from_networkx(fsub[j], group_node_attrs = sc5.conv_var + sc5.input_var)\n",
    "            tpy = from_networkx(tsub[j], group_node_attrs = sc5.target)\n",
    "            yield (fpy, tpy)"
   ]
  },
  {
   "cell_type": "code",
   "execution_count": 46,
   "id": "beeb2adb",
   "metadata": {},
   "outputs": [],
   "source": [
    "asdfasdf = ggen_subgs(batch, kernel, gconv=convolve)\n",
    "f, t = next(asdfasdf)"
   ]
  },
  {
   "cell_type": "code",
   "execution_count": 47,
   "id": "0c04bd7e",
   "metadata": {},
   "outputs": [],
   "source": [
    "batchz = batch[{'input_batch':0}]\n",
    "fsub, tsub = xr_ds_to_subgraphs(batchz, sc5, kernel)"
   ]
  },
  {
   "cell_type": "code",
   "execution_count": 48,
   "id": "4918731f",
   "metadata": {},
   "outputs": [
    {
     "data": {
      "text/plain": [
       "<networkx.classes.graph.Graph at 0x1ed62c75fa0>"
      ]
     },
     "execution_count": 48,
     "metadata": {},
     "output_type": "execute_result"
    }
   ],
   "source": [
    "fsub[0]"
   ]
  },
  {
   "cell_type": "code",
   "execution_count": 49,
   "id": "07cfa841",
   "metadata": {},
   "outputs": [
    {
     "data": {
      "text/plain": [
       "array([[ 2., -1., -1.,  0.,  0.,  0.,  0.,  0.,  0.],\n",
       "       [-1.,  3.,  0., -1., -1.,  0.,  0.,  0.,  0.],\n",
       "       [-1.,  0.,  3.,  0., -1.,  0., -1.,  0.,  0.],\n",
       "       [ 0., -1.,  0.,  2.,  0., -1.,  0.,  0.,  0.],\n",
       "       [ 0., -1., -1.,  0.,  4., -1.,  0., -1.,  0.],\n",
       "       [ 0.,  0.,  0., -1., -1.,  3.,  0.,  0., -1.],\n",
       "       [ 0.,  0., -1.,  0.,  0.,  0.,  2., -1.,  0.],\n",
       "       [ 0.,  0.,  0.,  0., -1.,  0., -1.,  3., -1.],\n",
       "       [ 0.,  0.,  0.,  0.,  0., -1.,  0., -1.,  2.]])"
      ]
     },
     "execution_count": 49,
     "metadata": {},
     "output_type": "execute_result"
    }
   ],
   "source": [
    "nx.laplacian_matrix(fsub[0]).todense() "
   ]
  },
  {
   "cell_type": "code",
   "execution_count": 50,
   "id": "3a52c4c4",
   "metadata": {},
   "outputs": [],
   "source": [
    "# something is slow in here\n",
    "def batch_generator(bgen, batch_size):\n",
    "    b = (batch for batch in bgen)\n",
    "    n = 0\n",
    "    feats = list()\n",
    "    targs = list()\n",
    "    while n < 400:\n",
    "        batch = [     next(b) for i in range(batch_size) ]\n",
    "        feats = [ batch[i][0] for i in range(batch_size) ]\n",
    "        targs = [ batch[i][1] for i in range(batch_size) ]\n",
    "        \n",
    "        yield feats, targs\n",
    "        n += 1"
   ]
  },
  {
   "cell_type": "code",
   "execution_count": 51,
   "id": "7d715577-69a8-44fb-91a3-7d0e82067621",
   "metadata": {},
   "outputs": [],
   "source": [
    "# bgen = batch_generator(batch, 4096)\n",
    "bgen = batch_generator(ggen_subgs(batch, kernel), 32)"
   ]
  },
  {
   "cell_type": "code",
   "execution_count": 52,
   "id": "3aa4f69c",
   "metadata": {},
   "outputs": [],
   "source": [
    "f, t = next(bgen)"
   ]
  },
  {
   "cell_type": "code",
   "execution_count": 53,
   "id": "153585ad",
   "metadata": {},
   "outputs": [
    {
     "data": {
      "text/plain": [
       "tensor([1., 1., 1., 1., 1., 1., 1., 1., 1., 1., 1., 1., 1., 1., 1., 1., 1., 1.,\n",
       "        1., 1., 1., 1., 1., 1.])"
      ]
     },
     "execution_count": 53,
     "metadata": {},
     "output_type": "execute_result"
    }
   ],
   "source": [
    "f[0].weight\n"
   ]
  },
  {
   "cell_type": "code",
   "execution_count": 54,
   "id": "77260379",
   "metadata": {},
   "outputs": [
    {
     "data": {
      "text/plain": [
       "torch_geometric.data.data.Data"
      ]
     },
     "execution_count": 54,
     "metadata": {},
     "output_type": "execute_result"
    }
   ],
   "source": [
    "type(f[0])"
   ]
  },
  {
   "cell_type": "code",
   "execution_count": 55,
   "id": "fd599a58",
   "metadata": {},
   "outputs": [],
   "source": [
    "train_loader = torch_geometric.loader.DataLoader(f, batch_size=8, shuffle=True)"
   ]
  },
  {
   "cell_type": "code",
   "execution_count": 56,
   "id": "3745152b",
   "metadata": {},
   "outputs": [
    {
     "name": "stdout",
     "output_type": "stream",
     "text": [
      "tensor([[ 3.9950e-01, -1.4616e-02, -2.4291e-01, -1.8647e+00,  3.7319e-01],\n",
      "        [ 3.9741e-01, -9.1624e-03, -2.4291e-01, -1.8785e+00,  3.8573e-01],\n",
      "        [ 3.9618e-01, -1.3974e-02, -2.4127e-01, -1.8767e+00,  3.9164e-01],\n",
      "        [ 4.1889e-01, -2.4028e-03, -2.4291e-01, -1.8954e+00,  4.0097e-01],\n",
      "        [ 4.0461e-01, -7.2465e-03, -2.4127e-01, -1.8910e+00,  4.0521e-01],\n",
      "        [ 4.3423e-01, -4.3759e-03, -2.4127e-01, -1.9073e+00,  4.2101e-01],\n",
      "        [ 3.9874e-01, -9.7928e-03, -2.3962e-01, -1.8892e+00,  4.1178e-01],\n",
      "        [ 4.1374e-01, -3.6273e-03, -2.3962e-01, -1.9043e+00,  4.2640e-01],\n",
      "        [ 4.4964e-01, -4.6358e-03, -2.3962e-01, -1.9202e+00,  4.4280e-01],\n",
      "        [ 6.3320e-01,  5.7061e-02, -7.2512e-01,  6.8882e+00, -1.7006e+00],\n",
      "        [ 9.5077e-01,  1.6614e-01, -7.2512e-01,  7.0879e+00, -1.7372e+00],\n",
      "        [ 7.3530e-01,  1.1217e-01, -7.2430e-01,  6.8310e+00, -1.6783e+00],\n",
      "        [ 1.0813e+00,  2.1980e-01, -7.2512e-01,  7.3167e+00, -1.7948e+00],\n",
      "        [ 9.7525e-01,  1.8077e-01, -7.2430e-01,  7.0439e+00, -1.7251e+00],\n",
      "        [ 1.0115e+00,  2.1325e-01, -7.2430e-01,  7.2791e+00, -1.7887e+00],\n",
      "        [ 8.0456e-01,  1.3950e-01, -7.2346e-01,  6.7834e+00, -1.6678e+00],\n",
      "        [ 9.6632e-01,  1.8564e-01, -7.2346e-01,  7.0100e+00, -1.7242e+00],\n",
      "        [ 9.2512e-01,  2.1130e-01, -7.2346e-01,  7.2542e+00, -1.7923e+00],\n",
      "        [-1.5004e-02, -1.3499e-02, -6.4790e-01,  6.9167e+00, -3.8554e+00],\n",
      "        [-7.1009e-02, -2.1178e-02, -6.4790e-01,  6.8850e+00, -3.8399e+00],\n",
      "        [-7.6265e-03, -1.4074e-02, -6.4689e-01,  6.7917e+00, -3.7828e+00],\n",
      "        [-1.4243e-01, -1.8437e-02, -6.4790e-01,  6.8566e+00, -3.8266e+00],\n",
      "        [-5.5840e-02, -2.4217e-02, -6.4689e-01,  6.7628e+00, -3.7703e+00],\n",
      "        [-1.2289e-01, -2.5136e-02, -6.4689e-01,  6.7370e+00, -3.7600e+00],\n",
      "        [ 1.2426e-02, -1.4327e-02, -6.4587e-01,  6.6827e+00, -3.7167e+00],\n",
      "        [-1.7338e-02, -2.8652e-02, -6.4587e-01,  6.6593e+00, -3.7084e+00],\n",
      "        [-5.6848e-02, -3.8345e-02, -6.4587e-01,  6.6385e+00, -3.7012e+00],\n",
      "        [-4.9459e-02, -5.9128e-05, -3.1530e-01, -9.1565e-01,  1.1237e+00],\n",
      "        [ 4.4591e-01,  2.0631e-01, -3.1530e-01, -9.2044e-01,  1.1841e+00],\n",
      "        [-1.5023e-01, -2.3240e-02, -3.1373e-01, -9.0920e-01,  1.1106e+00],\n",
      "        [ 8.0045e-01,  2.2515e-01, -3.1530e-01, -9.2064e-01,  1.2331e+00],\n",
      "        [ 3.0445e-01,  1.7856e-01, -3.1373e-01, -9.1032e-01,  1.1655e+00],\n",
      "        [ 6.4738e-01,  2.0513e-01, -3.1373e-01, -9.0654e-01,  1.2095e+00],\n",
      "        [-1.8865e-01, -4.7408e-02, -3.1215e-01, -8.9380e-01,  1.0926e+00],\n",
      "        [ 1.7795e-01,  1.2641e-01, -3.1215e-01, -8.9324e-01,  1.1408e+00],\n",
      "        [ 4.9098e-01,  1.7503e-01, -3.1215e-01, -8.8743e-01,  1.1791e+00],\n",
      "        [-1.8188e-02, -6.9567e-02, -6.0993e-01,  4.0052e+00, -2.0570e+00],\n",
      "        [-9.4192e-02, -1.7822e-02, -6.0993e-01,  4.0017e+00, -2.0548e+00],\n",
      "        [ 3.5472e-03, -9.3400e-02, -6.0883e-01,  3.9060e+00, -2.0105e+00],\n",
      "        [-1.0045e-01,  2.5733e-03, -6.0993e-01,  4.0078e+00, -2.0559e+00],\n",
      "        [-9.3018e-02, -4.4627e-02, -6.0883e-01,  3.8961e+00, -2.0063e+00],\n",
      "        [-1.2884e-01, -4.1292e-03, -6.0883e-01,  3.8990e+00, -2.0073e+00],\n",
      "        [ 3.3951e-02, -1.0682e-01, -6.0773e-01,  3.8202e+00, -1.9733e+00],\n",
      "        [-7.2496e-02, -7.7993e-02, -6.0773e-01,  3.8058e+00, -1.9677e+00],\n",
      "        [-1.4434e-01, -2.7545e-02, -6.0773e-01,  3.8024e+00, -1.9669e+00],\n",
      "        [-5.0936e-01,  7.6948e-02, -7.1246e-01,  7.0379e+00, -3.7412e+00],\n",
      "        [-6.6184e-01,  9.5818e-02, -7.1246e-01,  7.0570e+00, -3.7661e+00],\n",
      "        [-3.5283e-01,  6.9050e-02, -7.1160e-01,  7.0051e+00, -3.7499e+00],\n",
      "        [-8.5205e-01,  1.1027e-01, -7.1246e-01,  7.0749e+00, -3.7928e+00],\n",
      "        [-4.7626e-01,  7.5747e-02, -7.1160e-01,  7.0248e+00, -3.7746e+00],\n",
      "        [-6.3291e-01,  9.8285e-02, -7.1160e-01,  7.0433e+00, -3.8006e+00],\n",
      "        [-2.8649e-01,  5.2369e-03, -7.1074e-01,  6.9927e+00, -3.7772e+00],\n",
      "        [-3.9597e-01, -1.2295e-02, -7.1074e-01,  7.0102e+00, -3.7991e+00],\n",
      "        [-5.1757e-01, -6.8479e-03, -7.1074e-01,  7.0278e+00, -3.8229e+00],\n",
      "        [ 1.0495e-01, -5.2345e-02, -2.5274e-01, -1.4242e+00,  1.7423e-01],\n",
      "        [ 1.3681e-01, -4.2428e-02, -2.5274e-01, -1.4500e+00,  1.7809e-01],\n",
      "        [ 1.9798e-01, -3.2971e-02, -2.5110e-01, -1.4273e+00,  1.6461e-01],\n",
      "        [ 1.8280e-01, -2.9025e-02, -2.5274e-01, -1.4749e+00,  1.8194e-01],\n",
      "        [ 1.9798e-01, -2.8440e-02, -2.5110e-01, -1.4524e+00,  1.6939e-01],\n",
      "        [ 2.1471e-01, -2.1631e-02, -2.5110e-01, -1.4765e+00,  1.7429e-01],\n",
      "        [ 2.8911e-01, -3.0189e-03, -2.4947e-01, -1.4134e+00,  1.6352e-01],\n",
      "        [ 2.7196e-01, -1.0242e-02, -2.4947e-01, -1.4398e+00,  1.6906e-01],\n",
      "        [ 2.6577e-01, -7.9842e-03, -2.4947e-01, -1.4660e+00,  1.7485e-01],\n",
      "        [ 3.8269e-01,  4.7591e-03, -6.4790e-01,  6.1705e+00, -3.2384e+00],\n",
      "        [ 4.6055e-01, -2.0168e-02, -6.4790e-01,  6.1413e+00, -3.2274e+00],\n",
      "        [ 3.3179e-01,  5.1301e-03, -6.4689e-01,  6.0738e+00, -3.1979e+00],\n",
      "        [ 5.2719e-01, -3.5927e-02, -6.4790e-01,  6.1057e+00, -3.2140e+00],\n",
      "        [ 4.0166e-01, -9.4478e-03, -6.4689e-01,  6.0490e+00, -3.1904e+00],\n",
      "        [ 4.5666e-01, -4.1832e-02, -6.4689e-01,  6.0159e+00, -3.1791e+00],\n",
      "        [ 2.8875e-01,  2.2492e-03, -6.4587e-01,  5.9731e+00, -3.1585e+00],\n",
      "        [ 3.7191e-01,  2.3842e-06, -6.4587e-01,  5.9516e+00, -3.1548e+00],\n",
      "        [ 4.3299e-01, -2.8757e-02, -6.4587e-01,  5.9225e+00, -3.1476e+00]],\n",
      "       dtype=torch.float64)\n"
     ]
    }
   ],
   "source": [
    "for a in train_loader:\n",
    "    print(a.x)\n",
    "    break"
   ]
  },
  {
   "cell_type": "code",
   "execution_count": 57,
   "id": "98a80d06",
   "metadata": {},
   "outputs": [],
   "source": [
    "class MPD_in(MessagePassing):\n",
    "    def __init__(self, in_channels, out_channels, message_channels):\n",
    "        super().__init__(aggr='add')\n",
    "        self.lin_1 = Linear(in_channels, out_channels)\n",
    "        self.lin_2 = Linear(in_channels, out_channels)\n",
    "        self.mlp = Seq(Linear(2 * in_channels + 2, message_channels),\n",
    "                       ReLU(),\n",
    "                       Linear(message_channels, in_channels))\n",
    "        \n",
    "    def forward(self, x, edge_index, edge_attr): #edge_attr\n",
    "        out = self.propagate(x=x, edge_index=edge_index, edge_attr=edge_attr) #edge_attr=edge_attr\n",
    "        out += self.lin_1(x) # Using += here is like a skip-connection, as opposed to = (according to Alex)\n",
    "        return out\n",
    "\n",
    "    def message(self, x_i, x_j, edge_attr): # edge_attr\n",
    "        tmp = torch.cat([x_i,x_j],1) #edge_attr\n",
    "        return self.lin_2(self.mlp(tmp)*(x_i-x_j))"
   ]
  },
  {
   "cell_type": "code",
   "execution_count": 58,
   "id": "5679513c",
   "metadata": {},
   "outputs": [],
   "source": [
    "# from inspect import signature\n",
    "# mlp = Seq(Linear(2 * 1 + 2, 200),\n",
    "#           ReLU(),\n",
    "#           Linear(200, 1))\n",
    "# mlp"
   ]
  },
  {
   "cell_type": "code",
   "execution_count": 59,
   "id": "d5a92947",
   "metadata": {},
   "outputs": [],
   "source": [
    "class MsgModelDiff(torch.nn.Module):\n",
    "\n",
    "    def __init__(self, num_in = 1, num_out = 2, num_hidden = 30, num_message = 200):\n",
    "        super().__init__()\n",
    "        self.layer_diff = MPD_in(num_in,num_hidden,num_message)\n",
    "        self.layer_h = MPD_in(num_hidden,num_hidden,num_message)\n",
    "        self.layer_out = MPD_in(num_hidden,num_out,num_message)\n",
    "        self.relu = torch.nn.ReLU()\n",
    "\n",
    "    def forward(self, features, edges, weights):\n",
    "        x = self.layer_diff(features, edges, weights)\n",
    "        x = self.relu(x)\n",
    "        x = self.layer_h(x, edges, weights)\n",
    "        x = self.relu(x)\n",
    "        x = self.layer_h(x, edges, weights)\n",
    "        x = self.relu(x)\n",
    "        x = self.layer_h(x, edges, weights)\n",
    "        x = self.relu(x)\n",
    "        x = self.layer_out(x, edges, weights)\n",
    "        return x"
   ]
  },
  {
   "cell_type": "code",
   "execution_count": 60,
   "id": "0e78bb98",
   "metadata": {},
   "outputs": [],
   "source": [
    "def train(model, num_epochs=1):\n",
    "    # Set up the loss and the optimizer\n",
    "    loss_fn = nn.MSELoss()\n",
    "    optimizer = torch.optim.Adam(model.parameters(), lr=0.0005)\n",
    "\n",
    "    for epoch in range(num_epochs):\n",
    "        # for f, t in bgen:\n",
    "\n",
    "        #     for i in range(len(f)):\n",
    "\n",
    "        #         # feat_loader = torch_geometric.loader.DataLoader(f, batch_size=8, shuffle=False)\n",
    "        #         # targ_loader = torch_geometric.loader.DataLoader(t, batch_size=8, shuffle=False)\n",
    "\n",
    "        #         optimizer.zero_grad()\n",
    "        #         outs = model(f[i], loader.edge_index, loader.weight)\n",
    "        #         loss = loss_fn(outs, t[i])\n",
    "        #         loss.backward()\n",
    "        #         optimizer.step()\n",
    "\n",
    "        #for data in loader: # probably obsolete\n",
    "        \n",
    "        for f, t in batch_generator(ggen_subgs(batch, kernel), 32):\n",
    "            for features, targets in zip(f, t):\n",
    "            \n",
    "                # weights = [[x] for x in features.weight]\n",
    "                # print(weights)\n",
    "\n",
    "                optimizer.zero_grad()\n",
    "                outs = model(features.x, features.edge_index, features.weight)\n",
    "                loss = loss_fn(outs, targets.x)\n",
    "                loss.backward()\n",
    "                optimizer.step()\n",
    "\n",
    "        if epoch%5==0:    \n",
    "            print(f'[Epoch {epoch+1}/{num_epochs}] Loss: {loss}')"
   ]
  },
  {
   "cell_type": "code",
   "execution_count": 61,
   "id": "e9b096dd",
   "metadata": {},
   "outputs": [],
   "source": [
    "model = MsgModelDiff(num_in = 2,num_hidden=40,num_message=100)"
   ]
  },
  {
   "cell_type": "code",
   "execution_count": 62,
   "id": "ae9a492b",
   "metadata": {},
   "outputs": [],
   "source": [
    "#train(model)"
   ]
  },
  {
   "cell_type": "code",
   "execution_count": 96,
   "metadata": {},
   "outputs": [
    {
     "ename": "RuntimeError",
     "evalue": "mat1 and mat2 must have the same dtype",
     "output_type": "error",
     "traceback": [
      "\u001b[1;31m---------------------------------------------------------------------------\u001b[0m",
      "\u001b[1;31mRuntimeError\u001b[0m                              Traceback (most recent call last)",
      "\u001b[1;32mc:\\Users\\cdupu\\Downloads\\graphs.ipynb Cell 81\u001b[0m line \u001b[0;36m7\n\u001b[0;32m      <a href='vscode-notebook-cell:/c%3A/Users/cdupu/Downloads/graphs.ipynb#Y143sZmlsZQ%3D%3D?line=3'>4</a>\u001b[0m \u001b[39mfor\u001b[39;00m features, targets \u001b[39min\u001b[39;00m \u001b[39mzip\u001b[39m(f, t):\n\u001b[0;32m      <a href='vscode-notebook-cell:/c%3A/Users/cdupu/Downloads/graphs.ipynb#Y143sZmlsZQ%3D%3D?line=5'>6</a>\u001b[0m     optimizer\u001b[39m.\u001b[39mzero_grad()\n\u001b[1;32m----> <a href='vscode-notebook-cell:/c%3A/Users/cdupu/Downloads/graphs.ipynb#Y143sZmlsZQ%3D%3D?line=6'>7</a>\u001b[0m     outs \u001b[39m=\u001b[39m model(features\u001b[39m.\u001b[39;49mx, features\u001b[39m.\u001b[39;49medge_index, features\u001b[39m.\u001b[39;49mweight) \u001b[39m# , features.weight\u001b[39;00m\n\u001b[0;32m      <a href='vscode-notebook-cell:/c%3A/Users/cdupu/Downloads/graphs.ipynb#Y143sZmlsZQ%3D%3D?line=7'>8</a>\u001b[0m     loss \u001b[39m=\u001b[39m loss_fn(outs, targets\u001b[39m.\u001b[39mx)\n\u001b[0;32m      <a href='vscode-notebook-cell:/c%3A/Users/cdupu/Downloads/graphs.ipynb#Y143sZmlsZQ%3D%3D?line=8'>9</a>\u001b[0m     loss\u001b[39m.\u001b[39mbackward()\n",
      "File \u001b[1;32mc:\\Users\\cdupu\\anaconda3\\envs\\gnnCookbook\\lib\\site-packages\\torch\\nn\\modules\\module.py:1501\u001b[0m, in \u001b[0;36mModule._call_impl\u001b[1;34m(self, *args, **kwargs)\u001b[0m\n\u001b[0;32m   1496\u001b[0m \u001b[39m# If we don't have any hooks, we want to skip the rest of the logic in\u001b[39;00m\n\u001b[0;32m   1497\u001b[0m \u001b[39m# this function, and just call forward.\u001b[39;00m\n\u001b[0;32m   1498\u001b[0m \u001b[39mif\u001b[39;00m \u001b[39mnot\u001b[39;00m (\u001b[39mself\u001b[39m\u001b[39m.\u001b[39m_backward_hooks \u001b[39mor\u001b[39;00m \u001b[39mself\u001b[39m\u001b[39m.\u001b[39m_backward_pre_hooks \u001b[39mor\u001b[39;00m \u001b[39mself\u001b[39m\u001b[39m.\u001b[39m_forward_hooks \u001b[39mor\u001b[39;00m \u001b[39mself\u001b[39m\u001b[39m.\u001b[39m_forward_pre_hooks\n\u001b[0;32m   1499\u001b[0m         \u001b[39mor\u001b[39;00m _global_backward_pre_hooks \u001b[39mor\u001b[39;00m _global_backward_hooks\n\u001b[0;32m   1500\u001b[0m         \u001b[39mor\u001b[39;00m _global_forward_hooks \u001b[39mor\u001b[39;00m _global_forward_pre_hooks):\n\u001b[1;32m-> 1501\u001b[0m     \u001b[39mreturn\u001b[39;00m forward_call(\u001b[39m*\u001b[39margs, \u001b[39m*\u001b[39m\u001b[39m*\u001b[39mkwargs)\n\u001b[0;32m   1502\u001b[0m \u001b[39m# Do not call functions when jit is used\u001b[39;00m\n\u001b[0;32m   1503\u001b[0m full_backward_hooks, non_full_backward_hooks \u001b[39m=\u001b[39m [], []\n",
      "\u001b[1;32mc:\\Users\\cdupu\\Downloads\\graphs.ipynb Cell 81\u001b[0m line \u001b[0;36m1\n\u001b[0;32m     <a href='vscode-notebook-cell:/c%3A/Users/cdupu/Downloads/graphs.ipynb#Y143sZmlsZQ%3D%3D?line=9'>10</a>\u001b[0m \u001b[39mdef\u001b[39;00m \u001b[39mforward\u001b[39m(\u001b[39mself\u001b[39m, features, edges, weights):\n\u001b[1;32m---> <a href='vscode-notebook-cell:/c%3A/Users/cdupu/Downloads/graphs.ipynb#Y143sZmlsZQ%3D%3D?line=10'>11</a>\u001b[0m     x \u001b[39m=\u001b[39m \u001b[39mself\u001b[39;49m\u001b[39m.\u001b[39;49mlayer_diff(features, edges, weights)\n\u001b[0;32m     <a href='vscode-notebook-cell:/c%3A/Users/cdupu/Downloads/graphs.ipynb#Y143sZmlsZQ%3D%3D?line=11'>12</a>\u001b[0m     x \u001b[39m=\u001b[39m \u001b[39mself\u001b[39m\u001b[39m.\u001b[39mrelu(x)\n\u001b[0;32m     <a href='vscode-notebook-cell:/c%3A/Users/cdupu/Downloads/graphs.ipynb#Y143sZmlsZQ%3D%3D?line=12'>13</a>\u001b[0m     x \u001b[39m=\u001b[39m \u001b[39mself\u001b[39m\u001b[39m.\u001b[39mlayer_h(x, edges, weights)\n",
      "File \u001b[1;32mc:\\Users\\cdupu\\anaconda3\\envs\\gnnCookbook\\lib\\site-packages\\torch\\nn\\modules\\module.py:1501\u001b[0m, in \u001b[0;36mModule._call_impl\u001b[1;34m(self, *args, **kwargs)\u001b[0m\n\u001b[0;32m   1496\u001b[0m \u001b[39m# If we don't have any hooks, we want to skip the rest of the logic in\u001b[39;00m\n\u001b[0;32m   1497\u001b[0m \u001b[39m# this function, and just call forward.\u001b[39;00m\n\u001b[0;32m   1498\u001b[0m \u001b[39mif\u001b[39;00m \u001b[39mnot\u001b[39;00m (\u001b[39mself\u001b[39m\u001b[39m.\u001b[39m_backward_hooks \u001b[39mor\u001b[39;00m \u001b[39mself\u001b[39m\u001b[39m.\u001b[39m_backward_pre_hooks \u001b[39mor\u001b[39;00m \u001b[39mself\u001b[39m\u001b[39m.\u001b[39m_forward_hooks \u001b[39mor\u001b[39;00m \u001b[39mself\u001b[39m\u001b[39m.\u001b[39m_forward_pre_hooks\n\u001b[0;32m   1499\u001b[0m         \u001b[39mor\u001b[39;00m _global_backward_pre_hooks \u001b[39mor\u001b[39;00m _global_backward_hooks\n\u001b[0;32m   1500\u001b[0m         \u001b[39mor\u001b[39;00m _global_forward_hooks \u001b[39mor\u001b[39;00m _global_forward_pre_hooks):\n\u001b[1;32m-> 1501\u001b[0m     \u001b[39mreturn\u001b[39;00m forward_call(\u001b[39m*\u001b[39margs, \u001b[39m*\u001b[39m\u001b[39m*\u001b[39mkwargs)\n\u001b[0;32m   1502\u001b[0m \u001b[39m# Do not call functions when jit is used\u001b[39;00m\n\u001b[0;32m   1503\u001b[0m full_backward_hooks, non_full_backward_hooks \u001b[39m=\u001b[39m [], []\n",
      "\u001b[1;32mc:\\Users\\cdupu\\Downloads\\graphs.ipynb Cell 81\u001b[0m line \u001b[0;36m1\n\u001b[0;32m     <a href='vscode-notebook-cell:/c%3A/Users/cdupu/Downloads/graphs.ipynb#Y143sZmlsZQ%3D%3D?line=9'>10</a>\u001b[0m \u001b[39mdef\u001b[39;00m \u001b[39mforward\u001b[39m(\u001b[39mself\u001b[39m, x, edge_index, edge_attr): \u001b[39m#edge_attr\u001b[39;00m\n\u001b[1;32m---> <a href='vscode-notebook-cell:/c%3A/Users/cdupu/Downloads/graphs.ipynb#Y143sZmlsZQ%3D%3D?line=10'>11</a>\u001b[0m     out \u001b[39m=\u001b[39m \u001b[39mself\u001b[39;49m\u001b[39m.\u001b[39;49mpropagate(x\u001b[39m=\u001b[39;49mx, edge_index\u001b[39m=\u001b[39;49medge_index, edge_attr\u001b[39m=\u001b[39;49medge_attr) \u001b[39m#edge_attr=edge_attr\u001b[39;00m\n\u001b[0;32m     <a href='vscode-notebook-cell:/c%3A/Users/cdupu/Downloads/graphs.ipynb#Y143sZmlsZQ%3D%3D?line=11'>12</a>\u001b[0m     out \u001b[39m+\u001b[39m\u001b[39m=\u001b[39m \u001b[39mself\u001b[39m\u001b[39m.\u001b[39mlin_1(x) \u001b[39m# Using += here is like a skip-connection, as opposed to = (according to Alex)\u001b[39;00m\n\u001b[0;32m     <a href='vscode-notebook-cell:/c%3A/Users/cdupu/Downloads/graphs.ipynb#Y143sZmlsZQ%3D%3D?line=12'>13</a>\u001b[0m     \u001b[39mreturn\u001b[39;00m out\n",
      "File \u001b[1;32mc:\\Users\\cdupu\\anaconda3\\envs\\gnnCookbook\\lib\\site-packages\\torch_geometric\\nn\\conv\\message_passing.py:467\u001b[0m, in \u001b[0;36mMessagePassing.propagate\u001b[1;34m(self, edge_index, size, **kwargs)\u001b[0m\n\u001b[0;32m    465\u001b[0m     \u001b[39mif\u001b[39;00m res \u001b[39mis\u001b[39;00m \u001b[39mnot\u001b[39;00m \u001b[39mNone\u001b[39;00m:\n\u001b[0;32m    466\u001b[0m         msg_kwargs \u001b[39m=\u001b[39m res[\u001b[39m0\u001b[39m] \u001b[39mif\u001b[39;00m \u001b[39misinstance\u001b[39m(res, \u001b[39mtuple\u001b[39m) \u001b[39melse\u001b[39;00m res\n\u001b[1;32m--> 467\u001b[0m out \u001b[39m=\u001b[39m \u001b[39mself\u001b[39m\u001b[39m.\u001b[39mmessage(\u001b[39m*\u001b[39m\u001b[39m*\u001b[39mmsg_kwargs)\n\u001b[0;32m    468\u001b[0m \u001b[39mfor\u001b[39;00m hook \u001b[39min\u001b[39;00m \u001b[39mself\u001b[39m\u001b[39m.\u001b[39m_message_forward_hooks\u001b[39m.\u001b[39mvalues():\n\u001b[0;32m    469\u001b[0m     res \u001b[39m=\u001b[39m hook(\u001b[39mself\u001b[39m, (msg_kwargs, ), out)\n",
      "\u001b[1;32mc:\\Users\\cdupu\\Downloads\\graphs.ipynb Cell 81\u001b[0m line \u001b[0;36m1\n\u001b[0;32m     <a href='vscode-notebook-cell:/c%3A/Users/cdupu/Downloads/graphs.ipynb#Y143sZmlsZQ%3D%3D?line=14'>15</a>\u001b[0m \u001b[39mdef\u001b[39;00m \u001b[39mmessage\u001b[39m(\u001b[39mself\u001b[39m, x_i, x_j, edge_attr): \u001b[39m# edge_attr\u001b[39;00m\n\u001b[0;32m     <a href='vscode-notebook-cell:/c%3A/Users/cdupu/Downloads/graphs.ipynb#Y143sZmlsZQ%3D%3D?line=15'>16</a>\u001b[0m     tmp \u001b[39m=\u001b[39m torch\u001b[39m.\u001b[39mcat([x_i,x_j],\u001b[39m1\u001b[39m) \u001b[39m#edge_attr\u001b[39;00m\n\u001b[1;32m---> <a href='vscode-notebook-cell:/c%3A/Users/cdupu/Downloads/graphs.ipynb#Y143sZmlsZQ%3D%3D?line=16'>17</a>\u001b[0m     \u001b[39mreturn\u001b[39;00m \u001b[39mself\u001b[39m\u001b[39m.\u001b[39mlin_2(\u001b[39mself\u001b[39;49m\u001b[39m.\u001b[39;49mmlp(tmp)\u001b[39m*\u001b[39m(x_i\u001b[39m-\u001b[39mx_j))\n",
      "File \u001b[1;32mc:\\Users\\cdupu\\anaconda3\\envs\\gnnCookbook\\lib\\site-packages\\torch\\nn\\modules\\module.py:1501\u001b[0m, in \u001b[0;36mModule._call_impl\u001b[1;34m(self, *args, **kwargs)\u001b[0m\n\u001b[0;32m   1496\u001b[0m \u001b[39m# If we don't have any hooks, we want to skip the rest of the logic in\u001b[39;00m\n\u001b[0;32m   1497\u001b[0m \u001b[39m# this function, and just call forward.\u001b[39;00m\n\u001b[0;32m   1498\u001b[0m \u001b[39mif\u001b[39;00m \u001b[39mnot\u001b[39;00m (\u001b[39mself\u001b[39m\u001b[39m.\u001b[39m_backward_hooks \u001b[39mor\u001b[39;00m \u001b[39mself\u001b[39m\u001b[39m.\u001b[39m_backward_pre_hooks \u001b[39mor\u001b[39;00m \u001b[39mself\u001b[39m\u001b[39m.\u001b[39m_forward_hooks \u001b[39mor\u001b[39;00m \u001b[39mself\u001b[39m\u001b[39m.\u001b[39m_forward_pre_hooks\n\u001b[0;32m   1499\u001b[0m         \u001b[39mor\u001b[39;00m _global_backward_pre_hooks \u001b[39mor\u001b[39;00m _global_backward_hooks\n\u001b[0;32m   1500\u001b[0m         \u001b[39mor\u001b[39;00m _global_forward_hooks \u001b[39mor\u001b[39;00m _global_forward_pre_hooks):\n\u001b[1;32m-> 1501\u001b[0m     \u001b[39mreturn\u001b[39;00m forward_call(\u001b[39m*\u001b[39margs, \u001b[39m*\u001b[39m\u001b[39m*\u001b[39mkwargs)\n\u001b[0;32m   1502\u001b[0m \u001b[39m# Do not call functions when jit is used\u001b[39;00m\n\u001b[0;32m   1503\u001b[0m full_backward_hooks, non_full_backward_hooks \u001b[39m=\u001b[39m [], []\n",
      "File \u001b[1;32mc:\\Users\\cdupu\\anaconda3\\envs\\gnnCookbook\\lib\\site-packages\\torch\\nn\\modules\\container.py:217\u001b[0m, in \u001b[0;36mSequential.forward\u001b[1;34m(self, input)\u001b[0m\n\u001b[0;32m    215\u001b[0m \u001b[39mdef\u001b[39;00m \u001b[39mforward\u001b[39m(\u001b[39mself\u001b[39m, \u001b[39minput\u001b[39m):\n\u001b[0;32m    216\u001b[0m     \u001b[39mfor\u001b[39;00m module \u001b[39min\u001b[39;00m \u001b[39mself\u001b[39m:\n\u001b[1;32m--> 217\u001b[0m         \u001b[39minput\u001b[39m \u001b[39m=\u001b[39m module(\u001b[39minput\u001b[39;49m)\n\u001b[0;32m    218\u001b[0m     \u001b[39mreturn\u001b[39;00m \u001b[39minput\u001b[39m\n",
      "File \u001b[1;32mc:\\Users\\cdupu\\anaconda3\\envs\\gnnCookbook\\lib\\site-packages\\torch\\nn\\modules\\module.py:1501\u001b[0m, in \u001b[0;36mModule._call_impl\u001b[1;34m(self, *args, **kwargs)\u001b[0m\n\u001b[0;32m   1496\u001b[0m \u001b[39m# If we don't have any hooks, we want to skip the rest of the logic in\u001b[39;00m\n\u001b[0;32m   1497\u001b[0m \u001b[39m# this function, and just call forward.\u001b[39;00m\n\u001b[0;32m   1498\u001b[0m \u001b[39mif\u001b[39;00m \u001b[39mnot\u001b[39;00m (\u001b[39mself\u001b[39m\u001b[39m.\u001b[39m_backward_hooks \u001b[39mor\u001b[39;00m \u001b[39mself\u001b[39m\u001b[39m.\u001b[39m_backward_pre_hooks \u001b[39mor\u001b[39;00m \u001b[39mself\u001b[39m\u001b[39m.\u001b[39m_forward_hooks \u001b[39mor\u001b[39;00m \u001b[39mself\u001b[39m\u001b[39m.\u001b[39m_forward_pre_hooks\n\u001b[0;32m   1499\u001b[0m         \u001b[39mor\u001b[39;00m _global_backward_pre_hooks \u001b[39mor\u001b[39;00m _global_backward_hooks\n\u001b[0;32m   1500\u001b[0m         \u001b[39mor\u001b[39;00m _global_forward_hooks \u001b[39mor\u001b[39;00m _global_forward_pre_hooks):\n\u001b[1;32m-> 1501\u001b[0m     \u001b[39mreturn\u001b[39;00m forward_call(\u001b[39m*\u001b[39margs, \u001b[39m*\u001b[39m\u001b[39m*\u001b[39mkwargs)\n\u001b[0;32m   1502\u001b[0m \u001b[39m# Do not call functions when jit is used\u001b[39;00m\n\u001b[0;32m   1503\u001b[0m full_backward_hooks, non_full_backward_hooks \u001b[39m=\u001b[39m [], []\n",
      "File \u001b[1;32mc:\\Users\\cdupu\\anaconda3\\envs\\gnnCookbook\\lib\\site-packages\\torch\\nn\\modules\\linear.py:114\u001b[0m, in \u001b[0;36mLinear.forward\u001b[1;34m(self, input)\u001b[0m\n\u001b[0;32m    113\u001b[0m \u001b[39mdef\u001b[39;00m \u001b[39mforward\u001b[39m(\u001b[39mself\u001b[39m, \u001b[39minput\u001b[39m: Tensor) \u001b[39m-\u001b[39m\u001b[39m>\u001b[39m Tensor:\n\u001b[1;32m--> 114\u001b[0m     \u001b[39mreturn\u001b[39;00m F\u001b[39m.\u001b[39;49mlinear(\u001b[39minput\u001b[39;49m, \u001b[39mself\u001b[39;49m\u001b[39m.\u001b[39;49mweight, \u001b[39mself\u001b[39;49m\u001b[39m.\u001b[39;49mbias)\n",
      "\u001b[1;31mRuntimeError\u001b[0m: mat1 and mat2 must have the same dtype"
     ]
    }
   ],
   "source": [
    "\n",
    "loss_fn = nn.MSELoss()\n",
    "optimizer = torch.optim.Adam(model.parameters(), lr=0.0005)\n",
    "\n",
    "for features, targets in zip(f, t):\n",
    "\n",
    "    optimizer.zero_grad()\n",
    "    outs = model(features.x, features.edge_index, features.weight)\n",
    "    loss = loss_fn(outs, targets.x)\n",
    "    loss.backward()\n",
    "    optimizer.step()"
   ]
  }
 ],
 "metadata": {
  "kernelspec": {
   "display_name": "Python 3 (ipykernel)",
   "language": "python",
   "name": "python3"
  },
  "language_info": {
   "codemirror_mode": {
    "name": "ipython",
    "version": 3
   },
   "file_extension": ".py",
   "mimetype": "text/x-python",
   "name": "python",
   "nbconvert_exporter": "python",
   "pygments_lexer": "ipython3",
   "version": "3.9.16"
  }
 },
 "nbformat": 4,
 "nbformat_minor": 5
}
