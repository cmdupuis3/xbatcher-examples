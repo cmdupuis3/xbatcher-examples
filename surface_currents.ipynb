{
 "cells": [
  {
   "cell_type": "code",
   "execution_count": 1,
   "id": "656be18f-3c73-43f5-a826-6032496523da",
   "metadata": {},
   "outputs": [],
   "source": [
    "import numpy as np\n",
    "import xarray as xr\n",
    "\n",
    "from intake import open_catalog\n",
    "from dataclasses import dataclass\n",
    "from typing import Iterable, Optional"
   ]
  },
  {
   "cell_type": "code",
   "execution_count": 2,
   "id": "f7c7fca5-9d89-4749-9c29-27461aed0d91",
   "metadata": {},
   "outputs": [],
   "source": [
    "'''\n",
    "Uses existing variables and stencilled variables to prevent duplicate stencilling.\n",
    "ML training/modelling methods should be added in here.\n",
    "\n",
    "Parameters:\n",
    "    variable: list(Variable) - list of variables (with stencil data) to add to training input\n",
    "    name: str - The name (or \"label\") of the scenario\n",
    "'''\n",
    "@dataclass\n",
    "class Scenario:\n",
    "    conv_var: Iterable[str]\n",
    "    input_var: Iterable[str]\n",
    "    target: Iterable[str]\n",
    "    name: str"
   ]
  },
  {
   "cell_type": "code",
   "execution_count": 3,
   "id": "aaad7588-a1c5-42ff-8835-5f677f11937f",
   "metadata": {},
   "outputs": [],
   "source": [
    "target = ['U', 'V']"
   ]
  },
  {
   "cell_type": "code",
   "execution_count": 4,
   "id": "5eb48d30-7cfe-4d46-b510-78af260b810f",
   "metadata": {},
   "outputs": [],
   "source": [
    "# Scenarios from 2d stencil notebook (re-expand maybe)\n",
    "sc1 = Scenario(['SSH'],             ['TAUX', 'TAUY'], target, name = \"derp\")\n",
    "sc5 = Scenario(['SSH', 'SST'], ['X', 'TAUX', 'TAUY'], target, name = \"herp\")"
   ]
  },
  {
   "cell_type": "code",
   "execution_count": null,
   "id": "4a08bc13-fe44-4fd2-af1e-1b30a810b26f",
   "metadata": {},
   "outputs": [],
   "source": []
  },
  {
   "cell_type": "code",
   "execution_count": 5,
   "id": "6e51de30-5c8f-48a0-a846-30cbe769d7fc",
   "metadata": {},
   "outputs": [],
   "source": [
    "def add_grid(ds):\n",
    "    \n",
    "    X = lambda lat: np.sin(np.radians(lat))\n",
    "    Y = lambda lat, lon:  np.cos(np.radians(lat)) * np.sin(np.radians(lon))\n",
    "    Z = lambda lat, lon: -np.cos(np.radians(lat)) * np.cos(np.radians(lon))\n",
    "    delta = lambda dx, dxMean, dxStd: (dx - dxMean)/dxStd\n",
    "    \n",
    "    lats = ds.YU.data\n",
    "    lons = ds.XU.data\n",
    "    DX = ds.DXT.data\n",
    "    DY = ds.DYT.data\n",
    "    \n",
    "    x = X(lats)\n",
    "    y = Y(lats, lons)\n",
    "    z = Z(lats, lons)\n",
    "    dX = delta(DX, np.mean(DX), np.std(DX))\n",
    "    dY = delta(DY, np.mean(DY), np.std(DY))\n",
    "\n",
    "    ds['X']  = ds.XU.dims, x\n",
    "    ds['Y']  = ds.XU.dims, y\n",
    "    ds['Z']  = ds.XU.dims, z\n",
    "    ds['dx'] = ds.XU.dims, dX\n",
    "    ds['dy'] = ds.XU.dims, dY\n",
    "    \n",
    "    return(ds)    "
   ]
  },
  {
   "cell_type": "code",
   "execution_count": 6,
   "id": "19f3cf02-3c1c-4ea4-8b0e-87813f70ca75",
   "metadata": {},
   "outputs": [],
   "source": [
    "def get_mask_from(ds, x):\n",
    "    return ~np.isnan(ds[x])"
   ]
  },
  {
   "cell_type": "code",
   "execution_count": 7,
   "id": "9500f2bc-1a8b-4e42-b7eb-cba02d3ca37b",
   "metadata": {},
   "outputs": [],
   "source": [
    "def prepare_data_2D(sc, training_time, test_time, predict_time, mask_time=11):\n",
    "    cat = open_catalog(\"https://raw.githubusercontent.com/pangeo-data/pangeo-datastore/master/intake-catalogs/ocean/CESM_POP.yaml\")\n",
    "    ds  = cat[\"CESM_POP_hires_control\"].to_dask()\n",
    "    ds = ds.rename({'U1_1':'U', 'V1_1':'V', 'TAUX_2':'TAUX', 'TAUY_2':'TAUY', 'SSH_2':'SSH', 'ULONG':'XU', 'ULAT':'YU'})\n",
    "    ds = add_grid(ds)\n",
    "\n",
    "    mask1 = get_mask_from(ds, 'SSH')[{'time':mask_time}]\n",
    "    mask2 = get_mask_from(ds, 'TAUY')[{'time':mask_time}]\n",
    "    mask3 = get_mask_from(ds, 'U')[{'time':mask_time}]\n",
    "    mask = mask1 & mask2 & mask3\n",
    "    mask = mask.compute()\n",
    "    \n",
    "    varList = sc.conv_var + sc.input_var + sc.target\n",
    "    ds = ds[varList]\n",
    "    ds['mask'] = mask\n",
    "    \n",
    "    ds_training = ds.isel(time = training_time)\n",
    "    ds_training.to_zarr('scenarios/', group = 'training_' + sc.name + '.zarr', mode = 'w')\n",
    "    del ds_training\n",
    "    \n",
    "    ds_test     = ds.isel(time =     test_time)\n",
    "    ds_test.to_zarr('scenarios/',     group = 'test_'     + sc.name + '.zarr', mode = 'w')\n",
    "    del ds_test\n",
    "    \n",
    "    ds_predict  = ds.isel(time =  predict_time)\n",
    "    ds_predict.to_zarr('scenarios/',  group = 'predict_'  + sc.name + '.zarr', mode = 'w')\n",
    "    del ds_predict\n",
    "    \n",
    "    pass"
   ]
  },
  {
   "cell_type": "code",
   "execution_count": 166,
   "id": "eca75817-64a6-4b05-adca-71e1f2a2edcf",
   "metadata": {
    "tags": []
   },
   "outputs": [],
   "source": [
    "prepare_data_2D(sc5, 200, 1000, 1000, 200)"
   ]
  },
  {
   "cell_type": "code",
   "execution_count": null,
   "id": "f249c61c-7167-4917-994a-75693557f1e2",
   "metadata": {
    "tags": []
   },
   "outputs": [],
   "source": []
  },
  {
   "cell_type": "code",
   "execution_count": 8,
   "id": "7371c0ae-770b-4e9d-9545-f36e045794db",
   "metadata": {},
   "outputs": [],
   "source": [
    "from matplotlib import pyplot as plt\n",
    "from IPython.display import clear_output\n",
    "import gc"
   ]
  },
  {
   "cell_type": "code",
   "execution_count": 9,
   "id": "77d7faf9-eca6-4eee-8d28-2bbd6d4202da",
   "metadata": {},
   "outputs": [],
   "source": [
    "def filter_none(xs):\n",
    "    return list(filter(lambda x: x is not None, xs))"
   ]
  },
  {
   "cell_type": "code",
   "execution_count": 10,
   "id": "e0229aff-a03e-4b64-bf49-f93abb4d7e58",
   "metadata": {},
   "outputs": [],
   "source": [
    "def loader(sc, name):\n",
    "    ds = xr.open_zarr('scenarios/', group = name + '_' + sc.name + '.zarr')\n",
    "    return ds\n",
    "\n",
    "def load_training_data(sc):\n",
    "    return loader(sc, 'training')\n",
    "\n",
    "def load_test_data(sc):\n",
    "    return loader(sc, 'test')\n",
    "\n",
    "def load_predict_data(sc):\n",
    "    return loader(sc, 'predict')"
   ]
  },
  {
   "cell_type": "code",
   "execution_count": 11,
   "id": "7edff03e-636b-4c08-85d4-2f25a9507011",
   "metadata": {},
   "outputs": [
    {
     "name": "stderr",
     "output_type": "stream",
     "text": [
      "2023-01-20 04:29:37.969773: I tensorflow/core/platform/cpu_feature_guard.cc:193] This TensorFlow binary is optimized with oneAPI Deep Neural Network Library (oneDNN) to use the following CPU instructions in performance-critical operations:  SSE4.1 SSE4.2 AVX AVX2 FMA\n",
      "To enable them in other operations, rebuild TensorFlow with the appropriate compiler flags.\n"
     ]
    }
   ],
   "source": [
    "import tensorflow as tf"
   ]
  },
  {
   "cell_type": "code",
   "execution_count": 155,
   "id": "22f3f6e0-5858-4e00-ba5b-bdc085c9541a",
   "metadata": {},
   "outputs": [],
   "source": [
    "class LossHistory(tf.keras.callbacks.Callback):\n",
    "    def __init__(self, frequency=2048):\n",
    "        self.frequency = frequency\n",
    "        self.batch_counter = 0\n",
    "        \n",
    "        self.i = 0\n",
    "        self.x = []\n",
    "        self.mae = []\n",
    "        self.mse = []\n",
    "        self.accuracy = []\n",
    "        self.logs = []\n",
    "        \n",
    "    def on_train_begin(self, logs={}):\n",
    "        self.fig = plt.figure()\n",
    "        \n",
    "    def on_batch_end(self, batch, logs={}):\n",
    "        # if batch % self.frequency == 0:\n",
    "        self.batch_counter += self.frequency\n",
    "        self.x.append(self.i)\n",
    "        self.mae.append(logs.get('mae'))\n",
    "        self.mse.append(logs.get('mse'))\n",
    "        self.accuracy.append(logs.get('accuracy'))\n",
    "\n",
    "        self.i += 1\n",
    "            \n",
    "    def on_epoch_end(self, epoch, logs={}):\n",
    "        self.logs.append(logs)\n",
    "        clear_output(wait=True)\n",
    "        print(f\"MAE: {self.mae[-1]} \\t\\t MSE: {self.mse[-1]} \\t\\t Accuracy: {self.accuracy[-1]}\")\n",
    "        \n",
    "        plt.figure(figsize=(18,5))\n",
    "\n",
    "        plt.subplot(131)\n",
    "        plt.plot(self.x, self.mae, color='#ff6347',label=\"mae\")\n",
    "        plt.plot(self.x[-1], self.mae[-1],marker = 'o', markersize=10, color='#ff6347')\n",
    "        plt.legend()\n",
    "        plt.xlabel(r'batch');\n",
    "        plt.ylabel('Mean Absolute Error');\n",
    "        plt.ylim([0.,100.])\n",
    "\n",
    "        plt.subplot(132)\n",
    "        plt.plot(self.x, self.mse, color='#6495ed')\n",
    "        plt.plot(self.x[-1], self.mse[-1],marker = 'o', markersize=10, color='#6495ed')\n",
    "        plt.xlabel('batch')\n",
    "        plt.ylabel(r'Mean Squared Error [$cm^2/s^2$]')\n",
    "        plt.ylim([0.,1000.])\n",
    "\n",
    "        plt.subplot(133)\n",
    "        plt.plot(self.x, self.accuracy, color='#3cb371')\n",
    "        plt.plot(self.x[-1], self.accuracy[-1],marker = 'o', markersize=10, color='#3cb371')\n",
    "        plt.xlabel('batch')\n",
    "        plt.ylabel('Model Accuracy')\n",
    "        plt.ylim([0.,1.])\n",
    "\n",
    "        plt.show()"
   ]
  },
  {
   "cell_type": "code",
   "execution_count": null,
   "id": "7a2cbce5-1fb4-4cf0-8b3d-f5323a7cafb5",
   "metadata": {},
   "outputs": [],
   "source": []
  },
  {
   "cell_type": "code",
   "execution_count": 156,
   "id": "5c754030-6af9-43dd-8201-effefafdcb79",
   "metadata": {},
   "outputs": [],
   "source": [
    "ds_training = load_training_data(sc5)"
   ]
  },
  {
   "cell_type": "code",
   "execution_count": 157,
   "id": "378fc0be-9a58-4221-87b9-a167877b8e15",
   "metadata": {},
   "outputs": [],
   "source": [
    "ds_training = ds_training.isel(nlon=list(range(2000,2640)), nlat=list(range(1000,1640)))"
   ]
  },
  {
   "cell_type": "code",
   "execution_count": 158,
   "id": "cf48cb74-ee66-46d6-8d76-022c931839ac",
   "metadata": {},
   "outputs": [
    {
     "data": {
      "image/png": "[encoded data removed]",
      "text/plain": [
       "<Figure size 1800x500 with 1 Axes>"
      ]
     },
     "metadata": {},
     "output_type": "display_data"
    }
   ],
   "source": [
    "\n",
    "plt.figure(figsize=(18,5))\n",
    "plt.contourf(ds_training['SST'])\n",
    "plt.show()"
   ]
  },
  {
   "cell_type": "code",
   "execution_count": 159,
   "id": "38c75faf-cfd9-4896-8b00-6d00a03120f8",
   "metadata": {
    "tags": []
   },
   "outputs": [],
   "source": [
    "import xbatcher as xb"
   ]
  },
  {
   "cell_type": "code",
   "execution_count": 160,
   "id": "178b3531-4931-4a36-af3b-f0f5f90644b4",
   "metadata": {},
   "outputs": [],
   "source": [
    "# Corner case: what happens when everything is NaN?\n",
    "class Grid_MAE(tf.keras.losses.Loss):        \n",
    "    def call(self, y_true, y_pred):\n",
    "        avg = tf.math.abs(y_true - y_pred)\n",
    "        masked = tf.where(tf.math.is_finite(avg), avg, tf.zeros_like(avg))\n",
    "        return tf.math.reduce_sum(masked)"
   ]
  },
  {
   "cell_type": "code",
   "execution_count": 163,
   "id": "251bf0c8-97a3-4203-a68a-048ceba3841b",
   "metadata": {},
   "outputs": [],
   "source": [
    "def train(ds, sc, conv_dims=[5,5], nfilters=40, conv_kernels=[5], dense_layers=3):\n",
    "\n",
    "    halo_size = int((np.sum(conv_kernels) - len(conv_kernels))/2)\n",
    "    halo_dims = [x - 2*halo_size for x in conv_dims]\n",
    "    \n",
    "    nlons, nlats = conv_dims\n",
    "\n",
    "    bgen = xb.BatchGenerator(\n",
    "        ds,\n",
    "        {'nlon':nlons,     'nlat':nlats}#,\n",
    "        #{'nlon':halo_size, 'nlat':halo_size}\n",
    "    )\n",
    "    \n",
    "    sub = {'nlon':range(halo_size,nlons-halo_size),\n",
    "           'nlat':range(halo_size,nlats-halo_size)}\n",
    "\n",
    "    \n",
    "    conv_init = tf.keras.Input(shape=tuple(conv_dims) + (len(sc.conv_var),))\n",
    "    last_layer = tf.keras.layers.Conv2D(nfilters, conv_kernels[0])(conv_init)\n",
    "    for kernel in conv_kernels[1:]:\n",
    "        nfilters = nfilters / 2.\n",
    "        this_layer = tf.keras.layers.Conv2D(nfilters, kernel)(last_layer)\n",
    "        last_layer = this_layer\n",
    "    \n",
    "    input_init = tf.keras.Input(shape=tuple(halo_dims) + (len(sc.input_var),))\n",
    "    last_layer = tf.keras.layers.concatenate([last_layer, input_init])\n",
    "    #last_layer = tf.keras.layers.Conv2D(nfilters, 2)(last_layer)\n",
    "    #last_layer = tf.keras.layers.Reshape((nfilters+3,))(last_layer)\n",
    "    last_layer = tf.keras.layers.LeakyReLU(alpha=0.3)(last_layer)\n",
    "    for layer in range(dense_layers):\n",
    "        nfilters = nfilters / 2.\n",
    "        this_layer = tf.keras.layers.Dense(nfilters, activation='relu')(last_layer)\n",
    "        last_layer = this_layer\n",
    "        \n",
    "    output_layer = tf.keras.layers.Dense(len(sc.target))(last_layer)\n",
    "    \n",
    "    model = tf.keras.Model(inputs=[conv_init, input_init], outputs=output_layer)\n",
    "    opt = tf.keras.optimizers.Adam(learning_rate=1e-3)\n",
    "    model.compile(loss=Grid_MAE(), optimizer=opt, metrics=['mae', 'mse', 'accuracy'])\n",
    "    #model.summary()\n",
    "\n",
    "    history = LossHistory()\n",
    "    for batch in bgen:\n",
    "        batch = batch.expand_dims(\"sample\").transpose('sample','nlat','nlon')\n",
    "\n",
    "        batch_conv   = [batch[x] for x in sc.conv_var]\n",
    "        batch_input  = [batch[x][sub] for x in sc.input_var]\n",
    "        batch_target = [batch[x][sub] for x in sc.target]\n",
    "        batch_conv   = xr.merge(batch_conv).to_array('var').transpose(...,'var')\n",
    "        batch_input  = xr.merge(batch_input).to_array('var').transpose(...,'var')\n",
    "        batch_target = xr.merge(batch_target).to_array('var').transpose(...,'var')\n",
    "        \n",
    "        model.fit([batch_conv, batch_input],\n",
    "                  batch_target,\n",
    "                  batch_size=32, epochs=1, verbose=0,\n",
    "                  callbacks=[history])\n",
    "        clear_output(wait=True)\n",
    "\n",
    "    model.save('models/'+ sc.name)\n",
    "    np.savez('models/history_'+sc.name, losses=history.mae, mse=history.mse, accuracy=history.accuracy)\n",
    "\n",
    "    return model, history\n",
    "    "
   ]
  },
  {
   "cell_type": "code",
   "execution_count": null,
   "id": "eee959d1-43a7-4b20-a005-49687ae7613c",
   "metadata": {},
   "outputs": [],
   "source": [
    "train(ds_training, sc5)"
   ]
  },
  {
   "cell_type": "code",
   "execution_count": null,
   "id": "68e8049c-a745-417a-9601-6a13b598aa4c",
   "metadata": {},
   "outputs": [],
   "source": []
  }
 ],
 "metadata": {
  "kernelspec": {
   "display_name": "Python 3 (ipykernel)",
   "language": "python",
   "name": "python3"
  },
  "language_info": {
   "codemirror_mode": {
    "name": "ipython",
    "version": 3
   },
   "file_extension": ".py",
   "mimetype": "text/x-python",
   "name": "python",
   "nbconvert_exporter": "python",
   "pygments_lexer": "ipython3",
   "version": "3.9.13"
  }
 },
 "nbformat": 4,
 "nbformat_minor": 5
}
