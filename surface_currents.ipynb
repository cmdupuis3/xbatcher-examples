{
 "cells": [
  {
   "cell_type": "markdown",
   "id": "a0261a4c-2b20-4d8a-a155-7b382fc3e676",
   "metadata": {
    "tags": []
   },
   "source": [
    "## Introduction\n",
    "\n",
    "Here, we will be covering how to use xbatcher with Keras/Tensorflow convolutional neural network (CNN) models. \n",
    "\n",
    "This notebook replicates the work of [Sinha and Abernathey, 2021](https://www.frontiersin.org/article/10.3389/fmars.2021.672477), where the goal is to use a CNN to learn ocean surface currents (which are usually inferred diagnostically or modelled) from variables that can be observed directly, like sea surface temperature (SST) or wind stress. \n",
    "\n",
    "Can we learn to predict ocean currents with just one snapshot of data?"
   ]
  },
  {
   "cell_type": "markdown",
   "id": "fc8ef1e0-7886-49e3-8d13-252f61a291d9",
   "metadata": {},
   "source": [
    "To start, let's import some libraries we'll need. The important libraries here are `numpy`, `xarray`, `xbatcher` and `tensorflow`, while most of the others aren't strictly necessary."
   ]
  },
  {
   "cell_type": "code",
   "execution_count": null,
   "id": "8e48a969-b28e-4fc9-864a-8a402ae82252",
   "metadata": {},
   "outputs": [],
   "source": [
    "import numpy as np\n",
    "import xarray as xr\n",
    "\n",
    "from intake import open_catalog\n",
    "from dataclasses import dataclass\n",
    "from typing import Iterable"
   ]
  },
  {
   "cell_type": "code",
   "execution_count": null,
   "id": "7371c0ae-770b-4e9d-9545-f36e045794db",
   "metadata": {
    "tags": []
   },
   "outputs": [],
   "source": [
    "from matplotlib import pyplot as plt\n",
    "from IPython.display import clear_output"
   ]
  },
  {
   "cell_type": "code",
   "execution_count": null,
   "id": "7edff03e-636b-4c08-85d4-2f25a9507011",
   "metadata": {},
   "outputs": [],
   "source": [
    "import tensorflow as tf"
   ]
  },
  {
   "cell_type": "code",
   "execution_count": null,
   "id": "ac258fca-23fa-4b04-91d5-17e9a7606ff6",
   "metadata": {
    "tags": []
   },
   "outputs": [],
   "source": [
    "import xbatcher as xb"
   ]
  },
  {
   "cell_type": "code",
   "execution_count": null,
   "id": "0fdf7d35-004d-4086-89de-dc37bf33d61f",
   "metadata": {
    "tags": []
   },
   "outputs": [],
   "source": [
    "#import itertools"
   ]
  },
  {
   "cell_type": "markdown",
   "id": "38b8b4eb-665f-47f4-ada9-ae6c92c8cd21",
   "metadata": {
    "tags": []
   },
   "source": [
    "## Designing Scenarios\n",
    "\n",
    "We want to experiment with different neural network models by providing different inputs, and perhaps by playing with whether or not we run them through a convolutional layer. There are a lot of possibilities here, and if we approach it haphazardly, we'll end up with a mess of scattered experiments and results mixed in with other code. \n",
    "\n",
    "Instead, we can be more systematic about it. We know we want to define an individual scenario once, and then have it stay constant through the workflow. This way, there will be no compllexities later on about whether we're refering to the right dataset, etc. With that in mind, we should use a `dataclass`. We want something minimal here, just enough to store the names of variables we're interested in. \n",
    "\n",
    "What is the structure of each experiment? We want some input variables to be run through a 2D convolutional layer, while some other inputs will be passed through directly to the dense part of the neural network. Both of these can be lists of strings, so we define `conv_var` and `input_var` as `Iterable[str]`.\n",
    "\n",
    "Likewise, we have more than one target, so we define the `target` item as `Iterable[str]` as well. Outside of the `Scenario` dataclass, we define `target` as a list: `['U', 'V']`. Since we're only interested in learning the currents, this won't change.\n",
    "\n",
    "Finally, we need to name each scenario something distinct, so when we create data subsets for training, testing, and prediction, we can recover them later."
   ]
  },
  {
   "cell_type": "code",
   "execution_count": null,
   "id": "f7c7fca5-9d89-4749-9c29-27461aed0d91",
   "metadata": {},
   "outputs": [],
   "source": [
    "@dataclass\n",
    "class Scenario:\n",
    "    conv_var: Iterable[str]\n",
    "    input_var: Iterable[str]\n",
    "    target: Iterable[str]\n",
    "    name: str"
   ]
  },
  {
   "cell_type": "code",
   "execution_count": null,
   "id": "aaad7588-a1c5-42ff-8835-5f677f11937f",
   "metadata": {},
   "outputs": [],
   "source": [
    "target = ['U', 'V']"
   ]
  },
  {
   "cell_type": "code",
   "execution_count": null,
   "id": "5eb48d30-7cfe-4d46-b510-78af260b810f",
   "metadata": {},
   "outputs": [],
   "source": [
    "sc1 = Scenario(['SSH'],             ['TAUX', 'TAUY'], target, name = \"derp\")\n",
    "sc5 = Scenario(['SSH', 'SST'], ['X', 'TAUX', 'TAUY'], target, name = \"herp\")"
   ]
  },
  {
   "cell_type": "markdown",
   "id": "dfd17f20-8e09-43f2-9fbb-298043cd6c9f",
   "metadata": {},
   "source": [
    "## Data and Preprocessing\n",
    "\n",
    "For our dataset, we will be using ocean data from a high-resolution CESM POP model. \n",
    "\n",
    "We have some necessary I/O routines, but they aren't central to our problem, aside from the addtion of the new variables `X`, `Y`, `Z`, `dx` and `dy`, which represent Euclidean positions and distances between grid points.\n",
    "\n",
    "You can have a look in the notebook below if you're curious about it."
   ]
  },
  {
   "cell_type": "code",
   "execution_count": null,
   "id": "dd7dfb91-ca1d-4a4d-85ed-af12c32e8776",
   "metadata": {
    "tags": []
   },
   "outputs": [],
   "source": [
    "%run ./surface_currents_prep.ipynb"
   ]
  },
  {
   "cell_type": "markdown",
   "id": "c198bde4-7683-4f47-ad7d-09cdcf55bdb4",
   "metadata": {
    "tags": []
   },
   "source": [
    "From this notebook, we get a few new functions.\n",
    "\n",
    "  * `prepare_data` takes a scenario, as well as the time slices for training, testing, and prediction we are interested in, and the time slice we'll use for the NaN mask. It adds the new grid variables, and then stores each slice in a new zarr store that we can access later. This speeds up future I/O, which is helpful when modifying the model. Each scenario is stored separately.\n",
    "  * `load_training_data` loads the training data created for the scenario passed to it.\n",
    "  * `load_test_data` loads the testing data created for the scenario passed to it.\n",
    "  * `load_predict_data` loads the prediction input data created for the scenario passed to it.\n",
    "  \n",
    "You can comment out `prepare_data` after you've run it once, it will save time if you rerun the whole notebook again."
   ]
  },
  {
   "cell_type": "code",
   "execution_count": null,
   "id": "cf745763-351f-415f-8909-433d06eb8356",
   "metadata": {
    "tags": []
   },
   "outputs": [],
   "source": [
    "prepare_data(sc5, 200, 1000, 1000, 200)"
   ]
  },
  {
   "cell_type": "markdown",
   "id": "12ef4df4-6381-4f72-9589-26fdf584df67",
   "metadata": {
    "tags": []
   },
   "source": [
    "Next, we'll load our training data and pick out the part we want to train with. "
   ]
  },
  {
   "cell_type": "code",
   "execution_count": null,
   "id": "5c754030-6af9-43dd-8201-effefafdcb79",
   "metadata": {},
   "outputs": [],
   "source": [
    "ds_training = load_training_data(sc5)\n",
    "ds_training"
   ]
  },
  {
   "cell_type": "markdown",
   "id": "56b968f8-8da6-4163-b662-0436c82944d7",
   "metadata": {},
   "source": [
    "Looking inside `ds_training`, we see only the variables we would expect from `sc5`. "
   ]
  },
  {
   "cell_type": "code",
   "execution_count": null,
   "id": "355f5602-95c1-4f57-9482-9c04642886e9",
   "metadata": {},
   "outputs": [],
   "source": [
    "ds_training = ds_training.isel(nlon=list(range(250,550)), nlat=list(range(1350,1650)))"
   ]
  },
  {
   "cell_type": "code",
   "execution_count": null,
   "id": "be6bd52c-2b46-4379-8126-a26c33911f27",
   "metadata": {},
   "outputs": [],
   "source": [
    "xr.plot.contourf(ds_training['SST'])"
   ]
  },
  {
   "cell_type": "code",
   "execution_count": null,
   "id": "cf48cb74-ee66-46d6-8d76-022c931839ac",
   "metadata": {},
   "outputs": [],
   "source": [
    "\n",
    "# plt.figure(figsize=(15,15))\n",
    "# plt.contourf(ds_training['SST'])\n",
    "# plt.show()"
   ]
  },
  {
   "cell_type": "markdown",
   "id": "8847185d-5969-40cd-a4d1-ec2ff7892f83",
   "metadata": {
    "tags": []
   },
   "source": [
    "## Training a Model with xbatcher\n",
    "\n",
    "We have a model architecuture we're happy with already defined, so for this tutorial, we'll focus on how to use xbatcher to generate training sets for the model. From the notebook below, we recieve:\n",
    "  * `get_model()` Creates a mixed neural network based on some parameters. The architecture is intentionally a little arbitrary in terms of the depth of the dense part of the network, the depth of the convolutional part of the network, and the convolution kernel size. Returns a compiled Keras model.\n",
    "  * `LossHistory()` Only needed here because it has to be passed to `model.fit()`.\n",
    "  * `train()` We will walk through this routine below.\n",
    "\n",
    "Have a look inside for more details!"
   ]
  },
  {
   "cell_type": "code",
   "execution_count": null,
   "id": "dceb9cda-ecd3-4ba8-919b-e187dc449839",
   "metadata": {},
   "outputs": [],
   "source": [
    "%run ./surface_currents_model.ipynb"
   ]
  },
  {
   "cell_type": "markdown",
   "id": "e68406a0-1416-4176-9351-db955bffa0c1",
   "metadata": {},
   "source": [
    "Now the fun part: we define the `train` function to deal with high-level aspects of training the model, which means this is a good place to use xbatcher. Let's walk through it...\n",
    "\n",
    "The arguments to `train` are\n",
    "  * `ds: xr.DataSet` The dataset you want to work with.\n",
    "  * `sc: Scenario` The scenario you want to work with.\n",
    "  * `conv_dims: List[int]` This is the shape of the stencil that will be passed to the first convolutional layer. We are only interested in 2D convolutions here, so it will need to be a list of two integers. Note that this is distinct from the convolutional kernel.\n",
    "  * `nfilters: int` How many filters do we want to map the first convolution layer to?\n",
    "  * `conv_kernels: List[int]` Each entry denotes the convolution kernel of a new convolution layer. `train` works best for odd-numbered convolution kernels.\n",
    "  * `dense_layers: int` The number of dense layers in the model.\n",
    "  \n",
    "For this example, we only use one convolution layer, which makes some things simpler. Feel free to experiment with these parameters to use different data sets and create new CNN models."
   ]
  },
  {
   "cell_type": "code",
   "execution_count": null,
   "id": "bc3190c9-91c3-4c54-89c7-193121fcf613",
   "metadata": {},
   "outputs": [],
   "source": [
    "ds = ds_training.fillna(0)\n",
    "sc = sc5\n",
    "conv_dims = [3,3]\n",
    "nfilters = 80\n",
    "conv_kernels = [3]\n",
    "dense_layers = 3"
   ]
  },
  {
   "cell_type": "markdown",
   "id": "36986b46-2a45-48b8-aa38-3e8062d7c502",
   "metadata": {},
   "source": [
    "We'll need some info about how to rectify the output of the convolution layers with raw input from other variables (see the surface_currents_model.ipynb notebook for more info). Based on the convolution kernel, we know how the output of a convolution layer will be shaped compared to the input: a halo of a certain size will be removed from the edges. For odd convolution kernels, the halo thickness is always $\\frac{n - 1}{2}$ where $n$ is the kernel."
   ]
  },
  {
   "cell_type": "code",
   "execution_count": null,
   "id": "f517387b-868c-436d-a532-5bf4d3f91c60",
   "metadata": {},
   "outputs": [],
   "source": [
    "halo_size = int((np.sum(conv_kernels) - len(conv_kernels))/2)"
   ]
  },
  {
   "cell_type": "markdown",
   "id": "8ab9c5e2-80b4-45fe-87a6-7aac12388f63",
   "metadata": {},
   "source": [
    "Since we are trying to learn from a single 2D snapshot, it makes sense to iterate in both latitude and longitude. What we want are individual samples of the size given by `conv_dims`, but batched in a way that we can pass the correct number of samples to the model as a single tensor. So, `input_dims` will contain entries for both `nlon` and `nlat`. To take full advantage of the available data, we can add an overlap to make sure halo points are fully included in the neighboring samples."
   ]
  },
  {
   "cell_type": "code",
   "execution_count": null,
   "id": "3afe5052-77f3-4a33-91d6-8e17b5f4c51d",
   "metadata": {},
   "outputs": [],
   "source": [
    "nlons, nlats = conv_dims\n",
    "\n",
    "bgen = xb.BatchGenerator(\n",
    "    ds,\n",
    "    {'nlon':nlons,       'nlat':nlats},\n",
    "    {'nlon':2*halo_size, 'nlat':2*halo_size},\n",
    "    concat_input_dims=True\n",
    ")"
   ]
  },
  {
   "cell_type": "markdown",
   "id": "50d6358d-90d1-43d6-941a-bf35ebb7b34b",
   "metadata": {},
   "source": [
    "We need a subsetting stencil (`sub`) to compensate for the fact that a halo is removed by each convolution layer. This means that the input_var variables will be the wrong size at the concat layer unless we strip the halo from them."
   ]
  },
  {
   "cell_type": "code",
   "execution_count": null,
   "id": "7fcfdcf2-7a88-4951-867e-2c37e8269f8b",
   "metadata": {},
   "outputs": [],
   "source": [
    "sub = {'nlon_input':range(halo_size,nlons-halo_size),\n",
    "       'nlat_input':range(halo_size,nlats-halo_size)}"
   ]
  },
  {
   "cell_type": "markdown",
   "id": "c0bd2a8e-cf75-469b-be79-a53576ffc61b",
   "metadata": {},
   "source": [
    "Here, we generate our model and our history callback."
   ]
  },
  {
   "cell_type": "code",
   "execution_count": null,
   "id": "b152667f-385c-4258-939f-e7c51544ce56",
   "metadata": {},
   "outputs": [],
   "source": [
    "model = get_model(halo_size, ds, sc, conv_dims, nfilters, conv_kernels, dense_layers)\n",
    "history = LossHistory()"
   ]
  },
  {
   "cell_type": "markdown",
   "id": "7597dc73-a90e-482d-8580-63a761594c82",
   "metadata": {},
   "source": [
    "And now, we can construct our training loop. Most use cases of the `xb.BatchGenerator` will take the form of a for-loop with the construct `for batch in bgen`.\n",
    "\n",
    "Once we have a batch, we still have some things to do before we can pass the data to the model.\n",
    "\n",
    "So when we look at the contents of each batch, we see"
   ]
  },
  {
   "cell_type": "code",
   "execution_count": null,
   "id": "6cf38639-e1c8-4bc4-a57f-67c6becc95ab",
   "metadata": {},
   "outputs": [],
   "source": [
    "for batch in bgen:\n",
    "    batch\n",
    "    break"
   ]
  },
  {
   "cell_type": "markdown",
   "id": "b146f2c9-a123-4eec-873d-7f850fd13189",
   "metadata": {},
   "source": [
    "...but our model expects tensors where the different variables are stacked in a new dimension we will call `var`. "
   ]
  },
  {
   "cell_type": "markdown",
   "id": "55c07ce1-66d1-413e-974e-fbc065950fb0",
   "metadata": {},
   "source": [
    "Looking at `model.fit()`, we have two separate inputs because of the distinction between convolved inputs and raw inputs. Therefore, the model expects these inputs to be given as a list of the two. The training target is relatively straightforward. On the next line, we have a couple of parameters we can experiment with. The important thing to note is the `batch_size` parameter; you may need to check that the sample dimension is compatible with the dimensions that `xb.BatchGenerator` returned. And finally, we pass our history class as a callback so we can see how the model training is progressing."
   ]
  },
  {
   "cell_type": "code",
   "execution_count": null,
   "id": "2b9c5e90-8bc6-4b37-ad76-b98eff29d855",
   "metadata": {},
   "outputs": [],
   "source": [
    "for batch in bgen:\n",
    "\n",
    "    batch_conv   = [batch[x] for x in sc.conv_var]\n",
    "    batch_input  = [batch[x][sub] for x in sc.input_var]\n",
    "    batch_target = [batch[x][sub] for x in sc.target]\n",
    "    batch_conv   = xr.merge(batch_conv).to_array('var').transpose(...,'var')\n",
    "    batch_input  = xr.merge(batch_input).to_array('var').transpose(...,'var')\n",
    "    batch_target = xr.merge(batch_target).to_array('var').transpose(...,'var')\n",
    "\n",
    "    clear_output(wait=True)\n",
    "    model.fit([batch_conv, batch_input],\n",
    "              batch_target,\n",
    "              batch_size=32, epochs=4, verbose=0,\n",
    "              callbacks=[history])"
   ]
  },
  {
   "cell_type": "code",
   "execution_count": null,
   "id": "361ee965-148c-4aaf-9801-d10354631817",
   "metadata": {},
   "outputs": [],
   "source": [
    "model.save('models/'+ sc.name)\n",
    "np.savez('models/history_'+sc.name, losses=history.mae, mse=history.mse, accuracy=history.accuracy)"
   ]
  },
  {
   "cell_type": "markdown",
   "id": "a999873e-8009-4568-b07b-c78f588d1b08",
   "metadata": {},
   "source": [
    "## Training Function"
   ]
  },
  {
   "cell_type": "code",
   "execution_count": null,
   "id": "d2f181c2-fee7-45f6-9b38-6f4dd586c97f",
   "metadata": {},
   "outputs": [],
   "source": [
    "#train(ds_training.fillna(0), sc5)"
   ]
  }
 ],
 "metadata": {
  "kernelspec": {
   "display_name": "Python 3 (ipykernel)",
   "language": "python",
   "name": "python3"
  },
  "language_info": {
   "codemirror_mode": {
    "name": "ipython",
    "version": 3
   },
   "file_extension": ".py",
   "mimetype": "text/x-python",
   "name": "python",
   "nbconvert_exporter": "python",
   "pygments_lexer": "ipython3",
   "version": "3.10.8"
  }
 },
 "nbformat": 4,
 "nbformat_minor": 5
}
